{
 "cells": [
  {
   "cell_type": "code",
   "execution_count": 4,
   "id": "21664f07-42f5-4ece-acc2-3576ae239349",
   "metadata": {},
   "outputs": [],
   "source": [
    "import requests\n",
    "import sys\n",
    "import urllib.parse\n",
    "import csv\n",
    "import json \n",
    "import pandas as pd\n"
   ]
  },
  {
   "cell_type": "code",
   "execution_count": 5,
   "id": "76b41db6",
   "metadata": {},
   "outputs": [
    {
     "name": "stderr",
     "output_type": "stream",
     "text": [
      "/var/folders/d2/n4v3j4z551vdl0pw5090wq0h0000gn/T/ipykernel_37605/3782584933.py:1: FutureWarning: Passing a negative integer is deprecated in version 1.0 and will not be supported in future version. Instead, use None to not limit the column width.\n",
      "  pd.set_option('display.max_colwidth', -1)\n"
     ]
    },
    {
     "data": {
      "text/plain": [
       "3182    Care worker killed Lucy McHugh, 13, after year of abusing her, court told                                            \n",
       "3194    ‘It was like doomsday’: wait at Kabul airport descends into terror                                                   \n",
       "3196    Woman arrested after stabbing in Greater Manchester                                                                  \n",
       "3200    Woman arrested after stabbing in Greater Manchester                                                                  \n",
       "3209    More than 150 Palestinians injured in Jerusalem clash, say medics                                                    \n",
       "                                      ...                                                                                    \n",
       "5945    Grenfell inquiry: fire chief admits brigade part of ‘institutional failure’                                          \n",
       "5948    Thursday briefing: Renters at risk from cut to universal credit                                                      \n",
       "5955    Grenfell inquiry: fire chief admits brigade part of ‘institutional failure’                                          \n",
       "5958    Romanians are crushed by the state that should protect them. Our film shows how | Alexander Nanau and Antoaneta Opriș\n",
       "5961    Rio carnival turns political as ‘Barbie Fascists’ defend women’s rights                                              \n",
       "Name: webTitle, Length: 499, dtype: object"
      ]
     },
     "execution_count": 5,
     "metadata": {},
     "output_type": "execute_result"
    }
   ],
   "source": [
    "pd.set_option('display.max_colwidth', -1)\n",
    "data = pd.read_csv(\"femicide_final.csv\")\n",
    "data_copy = data.copy()\n",
    "data_copy = data_copy[['id', 'type', 'sectionId', 'sectionName', 'webPublicationDate',\n",
    "       'webTitle', 'webUrl', 'apiUrl', 'isHosted', 'pillarId', 'pillarName',\n",
    "       'clean_text', 'topic', 'femicide']]\n",
    "femicide_dataset= data_copy[data_copy.femicide == 1].webTitle\n",
    "femicide_dataset.iloc[1001:1500]"
   ]
  },
  {
   "cell_type": "code",
   "execution_count": null,
   "id": "e05085de",
   "metadata": {},
   "outputs": [],
   "source": []
  }
 ],
 "metadata": {
  "kernelspec": {
   "display_name": "Python 3 (ipykernel)",
   "language": "python",
   "name": "python3"
  },
  "language_info": {
   "codemirror_mode": {
    "name": "ipython",
    "version": 3
   },
   "file_extension": ".py",
   "mimetype": "text/x-python",
   "name": "python",
   "nbconvert_exporter": "python",
   "pygments_lexer": "ipython3",
   "version": "3.8.12"
  },
  "toc": {
   "base_numbering": 1,
   "nav_menu": {},
   "number_sections": true,
   "sideBar": true,
   "skip_h1_title": false,
   "title_cell": "Table of Contents",
   "title_sidebar": "Contents",
   "toc_cell": false,
   "toc_position": {},
   "toc_section_display": true,
   "toc_window_display": false
  }
 },
 "nbformat": 4,
 "nbformat_minor": 5
}
