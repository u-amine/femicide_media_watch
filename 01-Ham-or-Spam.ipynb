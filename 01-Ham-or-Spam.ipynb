{
 "cells": [
  {
   "cell_type": "markdown",
   "metadata": {},
   "source": [
    "# Ham or Spam?"
   ]
  },
  {
   "cell_type": "markdown",
   "metadata": {},
   "source": [
    "🎯 The goal of this challenge is to classify emails as spams (1) or normal emails (0)\n",
    "\n",
    "🧹 First, you will apply cleaning techniques to these textual data\n",
    "\n",
    "👩🏻‍🔬 Then, you will convert the cleaned texts into a numerical represensation\n",
    "\n",
    "✉️ Eventually, you will apply the ***Multinomial Naive Bayes*** model to classify each email as either a spam or a regular email."
   ]
  },
  {
   "cell_type": "markdown",
   "metadata": {},
   "source": [
    "## (0) The NTLK library (Natural Language Toolkit)"
   ]
  },
  {
   "cell_type": "code",
   "execution_count": null,
   "metadata": {},
   "outputs": [],
   "source": [
    "# !pip install nltk"
   ]
  },
  {
   "cell_type": "code",
   "execution_count": 116,
   "metadata": {},
   "outputs": [
    {
     "ename": "ModuleNotFoundError",
     "evalue": "No module named 'geopandas'",
     "output_type": "error",
     "traceback": [
      "\u001b[0;31m---------------------------------------------------------------------------\u001b[0m",
      "\u001b[0;31mModuleNotFoundError\u001b[0m                       Traceback (most recent call last)",
      "Input \u001b[0;32mIn [116]\u001b[0m, in \u001b[0;36m<cell line: 5>\u001b[0;34m()\u001b[0m\n\u001b[1;32m      3\u001b[0m \u001b[38;5;28;01mimport\u001b[39;00m \u001b[38;5;21;01mnltk\u001b[39;00m\n\u001b[1;32m      4\u001b[0m \u001b[38;5;28;01mimport\u001b[39;00m \u001b[38;5;21;01mpandas\u001b[39;00m \u001b[38;5;28;01mas\u001b[39;00m \u001b[38;5;21;01mpd\u001b[39;00m \n\u001b[0;32m----> 5\u001b[0m \u001b[38;5;28;01mimport\u001b[39;00m \u001b[38;5;21;01mgeopandas\u001b[39;00m \u001b[38;5;28;01mas\u001b[39;00m \u001b[38;5;21;01mgpd\u001b[39;00m \n\u001b[1;32m      6\u001b[0m \u001b[38;5;28;01mimport\u001b[39;00m \u001b[38;5;21;01mgeopy\u001b[39;00m \n\u001b[1;32m      7\u001b[0m \u001b[38;5;28;01mimport\u001b[39;00m \u001b[38;5;21;01mmatplotlib\u001b[39;00m\u001b[38;5;21;01m.\u001b[39;00m\u001b[38;5;21;01mpyplot\u001b[39;00m \u001b[38;5;28;01mas\u001b[39;00m \u001b[38;5;21;01mplt\u001b[39;00m\n",
      "\u001b[0;31mModuleNotFoundError\u001b[0m: No module named 'geopandas'"
     ]
    }
   ],
   "source": [
    "b\n",
    "from geopy.extra.rate_limiter import RateLimiter\n",
    "nltk.download('stopwords')\n",
    "nltk.download('punkt')\n",
    "nltk.download('wordnet')\n",
    "nltk.download('omw-1.4')"
   ]
  },
  {
   "cell_type": "code",
   "execution_count": 117,
   "metadata": {},
   "outputs": [
    {
     "ename": "ModuleNotFoundError",
     "evalue": "No module named 'geopandas'",
     "output_type": "error",
     "traceback": [
      "\u001b[0;31m---------------------------------------------------------------------------\u001b[0m",
      "\u001b[0;31mModuleNotFoundError\u001b[0m                       Traceback (most recent call last)",
      "Input \u001b[0;32mIn [117]\u001b[0m, in \u001b[0;36m<cell line: 5>\u001b[0;34m()\u001b[0m\n\u001b[1;32m      3\u001b[0m \u001b[38;5;28;01mimport\u001b[39;00m \u001b[38;5;21;01mnltk\u001b[39;00m\n\u001b[1;32m      4\u001b[0m \u001b[38;5;28;01mimport\u001b[39;00m \u001b[38;5;21;01mpandas\u001b[39;00m \u001b[38;5;28;01mas\u001b[39;00m \u001b[38;5;21;01mpd\u001b[39;00m \n\u001b[0;32m----> 5\u001b[0m \u001b[38;5;28;01mimport\u001b[39;00m \u001b[38;5;21;01mgeopandas\u001b[39;00m \u001b[38;5;28;01mas\u001b[39;00m \u001b[38;5;21;01mgpd\u001b[39;00m \n\u001b[1;32m      6\u001b[0m \u001b[38;5;28;01mimport\u001b[39;00m \u001b[38;5;21;01mgeopy\u001b[39;00m \n\u001b[1;32m      7\u001b[0m \u001b[38;5;28;01mimport\u001b[39;00m \u001b[38;5;21;01mmatplotlib\u001b[39;00m\u001b[38;5;21;01m.\u001b[39;00m\u001b[38;5;21;01mpyplot\u001b[39;00m \u001b[38;5;28;01mas\u001b[39;00m \u001b[38;5;21;01mplt\u001b[39;00m\n",
      "\u001b[0;31mModuleNotFoundError\u001b[0m: No module named 'geopandas'"
     ]
    }
   ],
   "source": [
    "# When importing nltk for the first time, we need to also download a few built-in libraries\n",
    "\n",
    "import nltk\n",
    "import pandas as pd \n",
    "import geopandas as gpd \n",
    "import geopy \n",
    "import matplotlib.pyplot as plt"
   ]
  },
  {
   "cell_type": "code",
   "execution_count": 80,
   "metadata": {},
   "outputs": [
    {
     "data": {
      "text/html": [
       "<div>\n",
       "<style scoped>\n",
       "    .dataframe tbody tr th:only-of-type {\n",
       "        vertical-align: middle;\n",
       "    }\n",
       "\n",
       "    .dataframe tbody tr th {\n",
       "        vertical-align: top;\n",
       "    }\n",
       "\n",
       "    .dataframe thead th {\n",
       "        text-align: right;\n",
       "    }\n",
       "</style>\n",
       "<table border=\"1\" class=\"dataframe\">\n",
       "  <thead>\n",
       "    <tr style=\"text-align: right;\">\n",
       "      <th></th>\n",
       "      <th>id</th>\n",
       "      <th>type</th>\n",
       "      <th>sectionId</th>\n",
       "      <th>sectionName</th>\n",
       "      <th>webPublicationDate</th>\n",
       "      <th>webTitle</th>\n",
       "      <th>webUrl</th>\n",
       "      <th>apiUrl</th>\n",
       "      <th>isHosted</th>\n",
       "      <th>pillarId</th>\n",
       "      <th>pillarName</th>\n",
       "      <th>clean_text</th>\n",
       "      <th>topic</th>\n",
       "      <th>femicide</th>\n",
       "      <th>cases</th>\n",
       "    </tr>\n",
       "  </thead>\n",
       "  <tbody>\n",
       "    <tr>\n",
       "      <th>0</th>\n",
       "      <td>society/2022/apr/26/murder-young-woman-mexico-...</td>\n",
       "      <td>article</td>\n",
       "      <td>society</td>\n",
       "      <td>Society</td>\n",
       "      <td>2022-04-26T16:00:36Z</td>\n",
       "      <td>‘Femicide nation’: murder of young woman casts...</td>\n",
       "      <td>https://www.theguardian.com/society/2022/apr/2...</td>\n",
       "      <td>https://content.guardianapis.com/society/2022/...</td>\n",
       "      <td>False</td>\n",
       "      <td>pillar/news</td>\n",
       "      <td>News</td>\n",
       "      <td>“ ’ take risk – stay u ” say one slogan nueva ...</td>\n",
       "      <td>7</td>\n",
       "      <td>0</td>\n",
       "      <td>False</td>\n",
       "    </tr>\n",
       "    <tr>\n",
       "      <th>1</th>\n",
       "      <td>uk-news/2022/mar/15/liverpool-inquiry-launched...</td>\n",
       "      <td>article</td>\n",
       "      <td>uk-news</td>\n",
       "      <td>UK news</td>\n",
       "      <td>2022-03-15T12:02:34Z</td>\n",
       "      <td>Woman held on suspicion of murder after man st...</td>\n",
       "      <td>https://www.theguardian.com/uk-news/2022/mar/1...</td>\n",
       "      <td>https://content.guardianapis.com/uk-news/2022/...</td>\n",
       "      <td>False</td>\n",
       "      <td>pillar/news</td>\n",
       "      <td>News</td>\n",
       "      <td>woman arrested suspicion murder man found stab...</td>\n",
       "      <td>1</td>\n",
       "      <td>1</td>\n",
       "      <td>False</td>\n",
       "    </tr>\n",
       "    <tr>\n",
       "      <th>2</th>\n",
       "      <td>global-development/2021/nov/10/a-woman-murdere...</td>\n",
       "      <td>article</td>\n",
       "      <td>global-development</td>\n",
       "      <td>Global development</td>\n",
       "      <td>2021-11-10T12:00:04Z</td>\n",
       "      <td>A woman murdered every month: is this Greece’s...</td>\n",
       "      <td>https://www.theguardian.com/global-development...</td>\n",
       "      <td>https://content.guardianapis.com/global-develo...</td>\n",
       "      <td>False</td>\n",
       "      <td>pillar/news</td>\n",
       "      <td>News</td>\n",
       "      <td>woman reported domestic violence building athe...</td>\n",
       "      <td>1</td>\n",
       "      <td>1</td>\n",
       "      <td>True</td>\n",
       "    </tr>\n",
       "    <tr>\n",
       "      <th>3</th>\n",
       "      <td>us-news/2021/oct/06/black-women-girls-murder-r...</td>\n",
       "      <td>article</td>\n",
       "      <td>us-news</td>\n",
       "      <td>US news</td>\n",
       "      <td>2021-10-06T10:00:22Z</td>\n",
       "      <td>At least four Black women and girls were murde...</td>\n",
       "      <td>https://www.theguardian.com/us-news/2021/oct/0...</td>\n",
       "      <td>https://content.guardianapis.com/us-news/2021/...</td>\n",
       "      <td>False</td>\n",
       "      <td>pillar/news</td>\n",
       "      <td>News</td>\n",
       "      <td>least four black woman girl murdered per day u...</td>\n",
       "      <td>7</td>\n",
       "      <td>0</td>\n",
       "      <td>False</td>\n",
       "    </tr>\n",
       "    <tr>\n",
       "      <th>4</th>\n",
       "      <td>society/2022/feb/27/femicide-census-theres-a-d...</td>\n",
       "      <td>article</td>\n",
       "      <td>society</td>\n",
       "      <td>Society</td>\n",
       "      <td>2022-02-27T08:00:07Z</td>\n",
       "      <td>Femicide Census: there’s a disturbing reason f...</td>\n",
       "      <td>https://www.theguardian.com/society/2022/feb/2...</td>\n",
       "      <td>https://content.guardianapis.com/society/2022/...</td>\n",
       "      <td>False</td>\n",
       "      <td>pillar/news</td>\n",
       "      <td>News</td>\n",
       "      <td>femicide census usually report woman killed me...</td>\n",
       "      <td>1</td>\n",
       "      <td>1</td>\n",
       "      <td>True</td>\n",
       "    </tr>\n",
       "  </tbody>\n",
       "</table>\n",
       "</div>"
      ],
      "text/plain": [
       "                                                  id     type  \\\n",
       "0  society/2022/apr/26/murder-young-woman-mexico-...  article   \n",
       "1  uk-news/2022/mar/15/liverpool-inquiry-launched...  article   \n",
       "2  global-development/2021/nov/10/a-woman-murdere...  article   \n",
       "3  us-news/2021/oct/06/black-women-girls-murder-r...  article   \n",
       "4  society/2022/feb/27/femicide-census-theres-a-d...  article   \n",
       "\n",
       "            sectionId         sectionName    webPublicationDate  \\\n",
       "0             society             Society  2022-04-26T16:00:36Z   \n",
       "1             uk-news             UK news  2022-03-15T12:02:34Z   \n",
       "2  global-development  Global development  2021-11-10T12:00:04Z   \n",
       "3             us-news             US news  2021-10-06T10:00:22Z   \n",
       "4             society             Society  2022-02-27T08:00:07Z   \n",
       "\n",
       "                                            webTitle  \\\n",
       "0  ‘Femicide nation’: murder of young woman casts...   \n",
       "1  Woman held on suspicion of murder after man st...   \n",
       "2  A woman murdered every month: is this Greece’s...   \n",
       "3  At least four Black women and girls were murde...   \n",
       "4  Femicide Census: there’s a disturbing reason f...   \n",
       "\n",
       "                                              webUrl  \\\n",
       "0  https://www.theguardian.com/society/2022/apr/2...   \n",
       "1  https://www.theguardian.com/uk-news/2022/mar/1...   \n",
       "2  https://www.theguardian.com/global-development...   \n",
       "3  https://www.theguardian.com/us-news/2021/oct/0...   \n",
       "4  https://www.theguardian.com/society/2022/feb/2...   \n",
       "\n",
       "                                              apiUrl  isHosted     pillarId  \\\n",
       "0  https://content.guardianapis.com/society/2022/...     False  pillar/news   \n",
       "1  https://content.guardianapis.com/uk-news/2022/...     False  pillar/news   \n",
       "2  https://content.guardianapis.com/global-develo...     False  pillar/news   \n",
       "3  https://content.guardianapis.com/us-news/2021/...     False  pillar/news   \n",
       "4  https://content.guardianapis.com/society/2022/...     False  pillar/news   \n",
       "\n",
       "  pillarName                                         clean_text  topic  \\\n",
       "0       News  “ ’ take risk – stay u ” say one slogan nueva ...      7   \n",
       "1       News  woman arrested suspicion murder man found stab...      1   \n",
       "2       News  woman reported domestic violence building athe...      1   \n",
       "3       News  least four black woman girl murdered per day u...      7   \n",
       "4       News  femicide census usually report woman killed me...      1   \n",
       "\n",
       "   femicide  cases  \n",
       "0         0  False  \n",
       "1         1  False  \n",
       "2         1   True  \n",
       "3         0  False  \n",
       "4         1   True  "
      ]
     },
     "execution_count": 80,
     "metadata": {},
     "output_type": "execute_result"
    }
   ],
   "source": [
    "import pandas as pd\n",
    "pd.set_option(\"display.max_colwidth\", 50)\n",
    "df = pd.read_csv(\"FemicideMediaWatch/data/femicide_final_with_ceros.csv\")\n",
    "df.head()"
   ]
  },
  {
   "cell_type": "code",
   "execution_count": 119,
   "metadata": {},
   "outputs": [],
   "source": [
    "import spacy\n",
    "from spacy import displacy \n",
    "df_solo_1= df[df.topic ==1]\n",
    "df_solo_cases= df_solo_1[df_solo_1.cases ==True]"
   ]
  },
  {
   "cell_type": "code",
   "execution_count": 122,
   "metadata": {},
   "outputs": [
    {
     "data": {
      "text/plain": [
       "(234, 15)"
      ]
     },
     "execution_count": 122,
     "metadata": {},
     "output_type": "execute_result"
    }
   ],
   "source": [
    "df_solo_cases.shape"
   ]
  },
  {
   "cell_type": "code",
   "execution_count": 123,
   "metadata": {},
   "outputs": [],
   "source": [
    "nlp_wk = spacy.load(\"xx_ent_wiki_sm\")"
   ]
  },
  {
   "cell_type": "code",
   "execution_count": 124,
   "metadata": {},
   "outputs": [],
   "source": [
    "def put_locations(x):\n",
    "    doc = nlp_wk(x)\n",
    "    locations=[]\n",
    "\n",
    "    for ent in doc.ents :\n",
    "        if ent.label_ in [\"LOC\"]:\n",
    "            locations.append(ent)\n",
    "    return locations"
   ]
  },
  {
   "cell_type": "code",
   "execution_count": 125,
   "metadata": {},
   "outputs": [
    {
     "name": "stderr",
     "output_type": "stream",
     "text": [
      "/var/folders/7l/db_s78_d7jjf7_b06dfk7fq80000gn/T/ipykernel_70603/1076388312.py:1: SettingWithCopyWarning: \n",
      "A value is trying to be set on a copy of a slice from a DataFrame.\n",
      "Try using .loc[row_indexer,col_indexer] = value instead\n",
      "\n",
      "See the caveats in the documentation: https://pandas.pydata.org/pandas-docs/stable/user_guide/indexing.html#returning-a-view-versus-a-copy\n",
      "  df_solo_cases[\"locations\"] = df_solo_cases.clean_text.apply(put_locations)\n"
     ]
    },
    {
     "data": {
      "text/html": [
       "<div>\n",
       "<style scoped>\n",
       "    .dataframe tbody tr th:only-of-type {\n",
       "        vertical-align: middle;\n",
       "    }\n",
       "\n",
       "    .dataframe tbody tr th {\n",
       "        vertical-align: top;\n",
       "    }\n",
       "\n",
       "    .dataframe thead th {\n",
       "        text-align: right;\n",
       "    }\n",
       "</style>\n",
       "<table border=\"1\" class=\"dataframe\">\n",
       "  <thead>\n",
       "    <tr style=\"text-align: right;\">\n",
       "      <th></th>\n",
       "      <th>id</th>\n",
       "      <th>type</th>\n",
       "      <th>sectionId</th>\n",
       "      <th>sectionName</th>\n",
       "      <th>webPublicationDate</th>\n",
       "      <th>webTitle</th>\n",
       "      <th>webUrl</th>\n",
       "      <th>apiUrl</th>\n",
       "      <th>isHosted</th>\n",
       "      <th>pillarId</th>\n",
       "      <th>pillarName</th>\n",
       "      <th>clean_text</th>\n",
       "      <th>topic</th>\n",
       "      <th>femicide</th>\n",
       "      <th>cases</th>\n",
       "      <th>locations</th>\n",
       "    </tr>\n",
       "  </thead>\n",
       "  <tbody>\n",
       "    <tr>\n",
       "      <th>2</th>\n",
       "      <td>global-development/2021/nov/10/a-woman-murdere...</td>\n",
       "      <td>article</td>\n",
       "      <td>global-development</td>\n",
       "      <td>Global development</td>\n",
       "      <td>2021-11-10T12:00:04Z</td>\n",
       "      <td>A woman murdered every month: is this Greece’s...</td>\n",
       "      <td>https://www.theguardian.com/global-development...</td>\n",
       "      <td>https://content.guardianapis.com/global-develo...</td>\n",
       "      <td>False</td>\n",
       "      <td>pillar/news</td>\n",
       "      <td>News</td>\n",
       "      <td>woman reported domestic violence building athe...</td>\n",
       "      <td>1</td>\n",
       "      <td>1</td>\n",
       "      <td>True</td>\n",
       "      <td>[(athens), (athens, hospital), (athens), (bywo...</td>\n",
       "    </tr>\n",
       "    <tr>\n",
       "      <th>4</th>\n",
       "      <td>society/2022/feb/27/femicide-census-theres-a-d...</td>\n",
       "      <td>article</td>\n",
       "      <td>society</td>\n",
       "      <td>Society</td>\n",
       "      <td>2022-02-27T08:00:07Z</td>\n",
       "      <td>Femicide Census: there’s a disturbing reason f...</td>\n",
       "      <td>https://www.theguardian.com/society/2022/feb/2...</td>\n",
       "      <td>https://content.guardianapis.com/society/2022/...</td>\n",
       "      <td>False</td>\n",
       "      <td>pillar/news</td>\n",
       "      <td>News</td>\n",
       "      <td>femicide census usually report woman killed me...</td>\n",
       "      <td>1</td>\n",
       "      <td>1</td>\n",
       "      <td>True</td>\n",
       "      <td>[(uk)]</td>\n",
       "    </tr>\n",
       "    <tr>\n",
       "      <th>5</th>\n",
       "      <td>uk-news/2022/apr/02/man-arrested-woman-stabbin...</td>\n",
       "      <td>article</td>\n",
       "      <td>uk-news</td>\n",
       "      <td>UK news</td>\n",
       "      <td>2022-04-02T15:46:26Z</td>\n",
       "      <td>Man arrested after elderly woman stabbed to de...</td>\n",
       "      <td>https://www.theguardian.com/uk-news/2022/apr/0...</td>\n",
       "      <td>https://content.guardianapis.com/uk-news/2022/...</td>\n",
       "      <td>False</td>\n",
       "      <td>pillar/news</td>\n",
       "      <td>News</td>\n",
       "      <td>police arrested man elderly woman stabbed deat...</td>\n",
       "      <td>1</td>\n",
       "      <td>1</td>\n",
       "      <td>True</td>\n",
       "      <td>[(east, london), (avenue, manor, park, newham,...</td>\n",
       "    </tr>\n",
       "    <tr>\n",
       "      <th>7</th>\n",
       "      <td>global-development/2021/dec/21/greece-femicide...</td>\n",
       "      <td>article</td>\n",
       "      <td>global-development</td>\n",
       "      <td>Global development</td>\n",
       "      <td>2021-12-21T11:47:37Z</td>\n",
       "      <td>Calls for femicide to become separate crime in...</td>\n",
       "      <td>https://www.theguardian.com/global-development...</td>\n",
       "      <td>https://content.guardianapis.com/global-develo...</td>\n",
       "      <td>False</td>\n",
       "      <td>pillar/news</td>\n",
       "      <td>News</td>\n",
       "      <td>greek government come growing pressure introdu...</td>\n",
       "      <td>1</td>\n",
       "      <td>1</td>\n",
       "      <td>True</td>\n",
       "      <td>[(greece), (europe), (europe), (athens), (uk),...</td>\n",
       "    </tr>\n",
       "    <tr>\n",
       "      <th>8</th>\n",
       "      <td>uk-news/2022/may/25/death-of-woman-with-epilep...</td>\n",
       "      <td>article</td>\n",
       "      <td>uk-news</td>\n",
       "      <td>UK news</td>\n",
       "      <td>2022-05-25T06:00:27Z</td>\n",
       "      <td>Death of woman with epilepsy may be re-examine...</td>\n",
       "      <td>https://www.theguardian.com/uk-news/2022/may/2...</td>\n",
       "      <td>https://content.guardianapis.com/uk-news/2022/...</td>\n",
       "      <td>False</td>\n",
       "      <td>pillar/news</td>\n",
       "      <td>News</td>\n",
       "      <td>mother woman epilepsy died hope highprofile mu...</td>\n",
       "      <td>1</td>\n",
       "      <td>1</td>\n",
       "      <td>True</td>\n",
       "      <td>[(leeds), (leeds), (leeds), (leeds)]</td>\n",
       "    </tr>\n",
       "  </tbody>\n",
       "</table>\n",
       "</div>"
      ],
      "text/plain": [
       "                                                  id     type  \\\n",
       "2  global-development/2021/nov/10/a-woman-murdere...  article   \n",
       "4  society/2022/feb/27/femicide-census-theres-a-d...  article   \n",
       "5  uk-news/2022/apr/02/man-arrested-woman-stabbin...  article   \n",
       "7  global-development/2021/dec/21/greece-femicide...  article   \n",
       "8  uk-news/2022/may/25/death-of-woman-with-epilep...  article   \n",
       "\n",
       "            sectionId         sectionName    webPublicationDate  \\\n",
       "2  global-development  Global development  2021-11-10T12:00:04Z   \n",
       "4             society             Society  2022-02-27T08:00:07Z   \n",
       "5             uk-news             UK news  2022-04-02T15:46:26Z   \n",
       "7  global-development  Global development  2021-12-21T11:47:37Z   \n",
       "8             uk-news             UK news  2022-05-25T06:00:27Z   \n",
       "\n",
       "                                            webTitle  \\\n",
       "2  A woman murdered every month: is this Greece’s...   \n",
       "4  Femicide Census: there’s a disturbing reason f...   \n",
       "5  Man arrested after elderly woman stabbed to de...   \n",
       "7  Calls for femicide to become separate crime in...   \n",
       "8  Death of woman with epilepsy may be re-examine...   \n",
       "\n",
       "                                              webUrl  \\\n",
       "2  https://www.theguardian.com/global-development...   \n",
       "4  https://www.theguardian.com/society/2022/feb/2...   \n",
       "5  https://www.theguardian.com/uk-news/2022/apr/0...   \n",
       "7  https://www.theguardian.com/global-development...   \n",
       "8  https://www.theguardian.com/uk-news/2022/may/2...   \n",
       "\n",
       "                                              apiUrl  isHosted     pillarId  \\\n",
       "2  https://content.guardianapis.com/global-develo...     False  pillar/news   \n",
       "4  https://content.guardianapis.com/society/2022/...     False  pillar/news   \n",
       "5  https://content.guardianapis.com/uk-news/2022/...     False  pillar/news   \n",
       "7  https://content.guardianapis.com/global-develo...     False  pillar/news   \n",
       "8  https://content.guardianapis.com/uk-news/2022/...     False  pillar/news   \n",
       "\n",
       "  pillarName                                         clean_text  topic  \\\n",
       "2       News  woman reported domestic violence building athe...      1   \n",
       "4       News  femicide census usually report woman killed me...      1   \n",
       "5       News  police arrested man elderly woman stabbed deat...      1   \n",
       "7       News  greek government come growing pressure introdu...      1   \n",
       "8       News  mother woman epilepsy died hope highprofile mu...      1   \n",
       "\n",
       "   femicide  cases                                          locations  \n",
       "2         1   True  [(athens), (athens, hospital), (athens), (bywo...  \n",
       "4         1   True                                             [(uk)]  \n",
       "5         1   True  [(east, london), (avenue, manor, park, newham,...  \n",
       "7         1   True  [(greece), (europe), (europe), (athens), (uk),...  \n",
       "8         1   True               [(leeds), (leeds), (leeds), (leeds)]  "
      ]
     },
     "execution_count": 125,
     "metadata": {},
     "output_type": "execute_result"
    }
   ],
   "source": [
    "df_solo_cases[\"locations\"] = df_solo_cases.clean_text.apply(put_locations)\n",
    "df_solo_cases.head()"
   ]
  },
  {
   "cell_type": "code",
   "execution_count": 128,
   "metadata": {},
   "outputs": [],
   "source": [
    "import geograpy\n",
    "import nltk\n",
    "#nltk.download('punkt')\n",
    "#nltk.download('averaged_perceptron_tagger')\n",
    "#nltk.download('maxent_ne_chunker')\n",
    "#nltk.download('words')\n"
   ]
  },
  {
   "cell_type": "code",
   "execution_count": 131,
   "metadata": {},
   "outputs": [
    {
     "ename": "ArticleException",
     "evalue": "Article `download()` failed with No connection adapters were found for ':/“ ’ take risk – stay u ” say one slogan nueva castilla motel £ per night roadside inn mexican city monterrey horrifying discovery dead teenager lodge ’ water tank sparked nationwide outcry protest country facing spiraling femicide crisis saw woman murdered last year gender interactive demonstrator gathered outside motel monday night latest series rally demanding justice debanhi susana escobar bazaldúa whose disappearance apparent murder rekindled devastating memory wave killing border city ciudad juárez two decade ago “ femicide nation ” read one dozen handmade placard left outside shrine remembering yearold law student “ destroyed inside ” victim ’ father mario escobar told journalist saturday daughter laid rest hilltop cemetery northern mexico related hunting men kill woman mexico ’ femicide detective mystery still surround happened escobar budding lawyer vanished leaving party early hour saturday april whose corpse found last thursday day later case – latest string genderrelated killing disappearance young woman year – scandalized mexico least woman reported missing nuevo león year majority around capital monterrey escobar argued friend taxi reportedly called take back home industrial suburb monterrey instead reason unknown teenager left empty motorway hundred metre motel driver accused making unwanted advance passenger took haunting final photograph student standing alone roadside long brown skirt hightop trainer video evidence reportedly show soon dropped escobar entered nueva castilla motel “ debhani went building trying understand happened … ended inside cistern ” father told reporter monday demonstrator mexico city demanded justice death debanhi escobar bazaldúa april photograph gerardo vieyranurphotorexshutterstock investigator say escobar died blunt force trauma head initially suggested victim might accidentally fallen death – version father emphatically rejected claiming beaten strangled “ murder killed … stop cleared ” mario escobar commissioned second independent autopsy vowed seek third necessary told reporter public anger compounded fact took nearly fortnight escobar ’ body found despite police searching motel least four occasion operation included sniffer dog drone escobar ’ death exposed activist call mexico ’ worsening gender violence crisis botched apathetic response authority last year mexico recorded case femicide – woman murdered specifically gender – compared overall woman killed “ happened debhani happens thousand case across country daily basis ” said edith olivares ferreto executive director amnesty international mexico “ eleven woman killed country every day least woman missing mexico state ’ failure searching woman investigating happened remained unchanged almost year ” added activist posted image murdered woman outside attorney general ’ office mexico city photograph luis barroneyepix groupeyepixzuma press wirerexshutterstock activist frida guerrera try track perpetrator crime denounced described neverending nightmare “ every single day ” guerrera blamed rampant impunity emergency country crime go unsolved “ woman killed nothing happens kill whole family whole society police find body sometimes investigation stop predator never brought justice next day ’ taken another girl people ’ understand ’ daughter ” said urging mexican take crisis seriously “ society forget like forgotten society reality worried ” dolores bazaldúa mother debanhi escobar handed poster daughter ’ image day search photograph daniel becerrilreuters many woman ’ right advocate hoped progress supposedly progressive andrés manuel lópez obrador elected president related mexico activist voice anger amlo ’ failure tackle ‘ femicide emergency ’ yet lópez obrador yearold nationalist known amlo repeatedly clashed feminist movement time suggesting campaigner tool conservative political rival early series murder provoked demonstration called mexico ’ feminist spring masked protester surrounded presidential palace mexico city daubed wall word “ amlo killing u ” last week escobar ’ body found amlo drew criticism claiming citizen reason worry “ happens everywhere ” said olivares ferreto voiced frustration called amlo ’ repeated attempt downplay scale violence government hostility towards “ legitimate struggle mexican woman ” safe “ one government vocal attacking feminist movement recent decade ” said “ want state job talking reinventing wheel ” olivares ferreto remembered nearly two decade ago human right group released report called intolerable killing internationally notorious wave femicides ciudad juárez – bungled official response “ tragically happening ciudad juárez happening across entire country ” said “ country become one big ciudad juárez ”' on URL :/“ ’ take risk – stay u ” say one slogan nueva castilla motel £ per night roadside inn mexican city monterrey horrifying discovery dead teenager lodge ’ water tank sparked nationwide outcry protest country facing spiraling femicide crisis saw woman murdered last year gender interactive demonstrator gathered outside motel monday night latest series rally demanding justice debanhi susana escobar bazaldúa whose disappearance apparent murder rekindled devastating memory wave killing border city ciudad juárez two decade ago “ femicide nation ” read one dozen handmade placard left outside shrine remembering yearold law student “ destroyed inside ” victim ’ father mario escobar told journalist saturday daughter laid rest hilltop cemetery northern mexico related hunting men kill woman mexico ’ femicide detective mystery still surround happened escobar budding lawyer vanished leaving party early hour saturday april whose corpse found last thursday day later case – latest string genderrelated killing disappearance young woman year – scandalized mexico least woman reported missing nuevo león year majority around capital monterrey escobar argued friend taxi reportedly called take back home industrial suburb monterrey instead reason unknown teenager left empty motorway hundred metre motel driver accused making unwanted advance passenger took haunting final photograph student standing alone roadside long brown skirt hightop trainer video evidence reportedly show soon dropped escobar entered nueva castilla motel “ debhani went building trying understand happened … ended inside cistern ” father told reporter monday demonstrator mexico city demanded justice death debanhi escobar bazaldúa april photograph gerardo vieyranurphotorexshutterstock investigator say escobar died blunt force trauma head initially suggested victim might accidentally fallen death – version father emphatically rejected claiming beaten strangled “ murder killed … stop cleared ” mario escobar commissioned second independent autopsy vowed seek third necessary told reporter public anger compounded fact took nearly fortnight escobar ’ body found despite police searching motel least four occasion operation included sniffer dog drone escobar ’ death exposed activist call mexico ’ worsening gender violence crisis botched apathetic response authority last year mexico recorded case femicide – woman murdered specifically gender – compared overall woman killed “ happened debhani happens thousand case across country daily basis ” said edith olivares ferreto executive director amnesty international mexico “ eleven woman killed country every day least woman missing mexico state ’ failure searching woman investigating happened remained unchanged almost year ” added activist posted image murdered woman outside attorney general ’ office mexico city photograph luis barroneyepix groupeyepixzuma press wirerexshutterstock activist frida guerrera try track perpetrator crime denounced described neverending nightmare “ every single day ” guerrera blamed rampant impunity emergency country crime go unsolved “ woman killed nothing happens kill whole family whole society police find body sometimes investigation stop predator never brought justice next day ’ taken another girl people ’ understand ’ daughter ” said urging mexican take crisis seriously “ society forget like forgotten society reality worried ” dolores bazaldúa mother debanhi escobar handed poster daughter ’ image day search photograph daniel becerrilreuters many woman ’ right advocate hoped progress supposedly progressive andrés manuel lópez obrador elected president related mexico activist voice anger amlo ’ failure tackle ‘ femicide emergency ’ yet lópez obrador yearold nationalist known amlo repeatedly clashed feminist movement time suggesting campaigner tool conservative political rival early series murder provoked demonstration called mexico ’ feminist spring masked protester surrounded presidential palace mexico city daubed wall word “ amlo killing u ” last week escobar ’ body found amlo drew criticism claiming citizen reason worry “ happens everywhere ” said olivares ferreto voiced frustration called amlo ’ repeated attempt downplay scale violence government hostility towards “ legitimate struggle mexican woman ” safe “ one government vocal attacking feminist movement recent decade ” said “ want state job talking reinventing wheel ” olivares ferreto remembered nearly two decade ago human right group released report called intolerable killing internationally notorious wave femicides ciudad juárez – bungled official response “ tragically happening ciudad juárez happening across entire country ” said “ country become one big ciudad juárez ”",
     "output_type": "error",
     "traceback": [
      "\u001b[0;31m---------------------------------------------------------------------------\u001b[0m",
      "\u001b[0;31mArticleException\u001b[0m                          Traceback (most recent call last)",
      "Input \u001b[0;32mIn [131]\u001b[0m, in \u001b[0;36m<cell line: 1>\u001b[0;34m()\u001b[0m\n\u001b[0;32m----> 1\u001b[0m places \u001b[38;5;241m=\u001b[39m \u001b[43mgeograpy\u001b[49m\u001b[38;5;241;43m.\u001b[39;49m\u001b[43mget_geoPlace_context\u001b[49m\u001b[43m(\u001b[49m\u001b[43mdf\u001b[49m\u001b[38;5;241;43m.\u001b[39;49m\u001b[43mclean_text\u001b[49m\u001b[43m[\u001b[49m\u001b[38;5;241;43m0\u001b[39;49m\u001b[43m]\u001b[49m\u001b[43m)\u001b[49m\n\u001b[1;32m      2\u001b[0m \u001b[38;5;28mprint\u001b[39m(places)\n",
      "File \u001b[0;32m~/.pyenv/versions/3.8.12/envs/femicide_media_watch/lib/python3.8/site-packages/geograpy/__init__.py:24\u001b[0m, in \u001b[0;36mget_geoPlace_context\u001b[0;34m(url, text, debug)\u001b[0m\n\u001b[1;32m      9\u001b[0m \u001b[38;5;28;01mdef\u001b[39;00m \u001b[38;5;21mget_geoPlace_context\u001b[39m(url\u001b[38;5;241m=\u001b[39m\u001b[38;5;28;01mNone\u001b[39;00m, text\u001b[38;5;241m=\u001b[39m\u001b[38;5;28;01mNone\u001b[39;00m,debug\u001b[38;5;241m=\u001b[39m\u001b[38;5;28;01mFalse\u001b[39;00m):\n\u001b[1;32m     10\u001b[0m     \u001b[38;5;124;03m'''\u001b[39;00m\n\u001b[1;32m     11\u001b[0m \u001b[38;5;124;03m    Get a place context for a given text with information\u001b[39;00m\n\u001b[1;32m     12\u001b[0m \u001b[38;5;124;03m    about country, region, city and other\u001b[39;00m\n\u001b[0;32m   (...)\u001b[0m\n\u001b[1;32m     22\u001b[0m \u001b[38;5;124;03m            PlaceContext: the place context\u001b[39;00m\n\u001b[1;32m     23\u001b[0m \u001b[38;5;124;03m    '''\u001b[39;00m    \n\u001b[0;32m---> 24\u001b[0m     places\u001b[38;5;241m=\u001b[39m\u001b[43mget_place_context\u001b[49m\u001b[43m(\u001b[49m\u001b[43murl\u001b[49m\u001b[43m,\u001b[49m\u001b[43m \u001b[49m\u001b[43mtext\u001b[49m\u001b[43m,\u001b[49m\u001b[43m \u001b[49m\u001b[43mlabels\u001b[49m\u001b[38;5;241;43m=\u001b[39;49m\u001b[43mLabels\u001b[49m\u001b[38;5;241;43m.\u001b[39;49m\u001b[43mgeo\u001b[49m\u001b[43m,\u001b[49m\u001b[43m \u001b[49m\u001b[43mdebug\u001b[49m\u001b[38;5;241;43m=\u001b[39;49m\u001b[43mdebug\u001b[49m\u001b[43m)\u001b[49m\n\u001b[1;32m     25\u001b[0m     \u001b[38;5;28;01mreturn\u001b[39;00m places\n",
      "File \u001b[0;32m~/.pyenv/versions/3.8.12/envs/femicide_media_watch/lib/python3.8/site-packages/geograpy/__init__.py:44\u001b[0m, in \u001b[0;36mget_place_context\u001b[0;34m(url, text, labels, debug)\u001b[0m\n\u001b[1;32m     28\u001b[0m \u001b[38;5;124;03m'''\u001b[39;00m\n\u001b[1;32m     29\u001b[0m \u001b[38;5;124;03mGet a place context for a given text with information\u001b[39;00m\n\u001b[1;32m     30\u001b[0m \u001b[38;5;124;03mabout country, region, city and other\u001b[39;00m\n\u001b[0;32m   (...)\u001b[0m\n\u001b[1;32m     41\u001b[0m \u001b[38;5;124;03m        PlaceContext: the place context\u001b[39;00m\n\u001b[1;32m     42\u001b[0m \u001b[38;5;124;03m'''\u001b[39;00m\n\u001b[1;32m     43\u001b[0m e \u001b[38;5;241m=\u001b[39m Extractor(url\u001b[38;5;241m=\u001b[39murl, text\u001b[38;5;241m=\u001b[39mtext,debug\u001b[38;5;241m=\u001b[39mdebug)\n\u001b[0;32m---> 44\u001b[0m \u001b[43me\u001b[49m\u001b[38;5;241;43m.\u001b[39;49m\u001b[43mfind_entities\u001b[49m\u001b[43m(\u001b[49m\u001b[43mlabels\u001b[49m\u001b[38;5;241;43m=\u001b[39;49m\u001b[43mlabels\u001b[49m\u001b[43m)\u001b[49m\n\u001b[1;32m     45\u001b[0m places\u001b[38;5;241m=\u001b[39me\u001b[38;5;241m.\u001b[39mplaces\n\u001b[1;32m     46\u001b[0m pc \u001b[38;5;241m=\u001b[39m PlaceContext(places)\n",
      "File \u001b[0;32m~/.pyenv/versions/3.8.12/envs/femicide_media_watch/lib/python3.8/site-packages/geograpy/extraction.py:80\u001b[0m, in \u001b[0;36mExtractor.find_entities\u001b[0;34m(self, labels)\u001b[0m\n\u001b[1;32m     70\u001b[0m \u001b[38;5;28;01mdef\u001b[39;00m \u001b[38;5;21mfind_entities\u001b[39m(\u001b[38;5;28mself\u001b[39m,labels\u001b[38;5;241m=\u001b[39mLabels\u001b[38;5;241m.\u001b[39mdefault):\n\u001b[1;32m     71\u001b[0m     \u001b[38;5;124;03m'''\u001b[39;00m\n\u001b[1;32m     72\u001b[0m \u001b[38;5;124;03m    Find entities with the given labels set self.places and returns it\u001b[39;00m\n\u001b[1;32m     73\u001b[0m \u001b[38;5;124;03m    Args:\u001b[39;00m\n\u001b[0;32m   (...)\u001b[0m\n\u001b[1;32m     78\u001b[0m \u001b[38;5;124;03m            List of places\u001b[39;00m\n\u001b[1;32m     79\u001b[0m \u001b[38;5;124;03m    '''\u001b[39;00m\n\u001b[0;32m---> 80\u001b[0m     \u001b[38;5;28;43mself\u001b[39;49m\u001b[38;5;241;43m.\u001b[39;49m\u001b[43mset_text\u001b[49m\u001b[43m(\u001b[49m\u001b[43m)\u001b[49m\n\u001b[1;32m     82\u001b[0m     text \u001b[38;5;241m=\u001b[39m nltk\u001b[38;5;241m.\u001b[39mword_tokenize(\u001b[38;5;28mself\u001b[39m\u001b[38;5;241m.\u001b[39mtext)\n\u001b[1;32m     83\u001b[0m     nes \u001b[38;5;241m=\u001b[39m nltk\u001b[38;5;241m.\u001b[39mne_chunk(nltk\u001b[38;5;241m.\u001b[39mpos_tag(text))\n",
      "File \u001b[0;32m~/.pyenv/versions/3.8.12/envs/femicide_media_watch/lib/python3.8/site-packages/geograpy/extraction.py:47\u001b[0m, in \u001b[0;36mExtractor.set_text\u001b[0;34m(self)\u001b[0m\n\u001b[1;32m     45\u001b[0m a \u001b[38;5;241m=\u001b[39m Article(\u001b[38;5;28mself\u001b[39m\u001b[38;5;241m.\u001b[39murl)\n\u001b[1;32m     46\u001b[0m a\u001b[38;5;241m.\u001b[39mdownload()\n\u001b[0;32m---> 47\u001b[0m \u001b[43ma\u001b[49m\u001b[38;5;241;43m.\u001b[39;49m\u001b[43mparse\u001b[49m\u001b[43m(\u001b[49m\u001b[43m)\u001b[49m\n\u001b[1;32m     48\u001b[0m \u001b[38;5;28mself\u001b[39m\u001b[38;5;241m.\u001b[39mtext \u001b[38;5;241m=\u001b[39m a\u001b[38;5;241m.\u001b[39mtext\n",
      "File \u001b[0;32m~/.pyenv/versions/3.8.12/envs/femicide_media_watch/lib/python3.8/site-packages/newspaper/article.py:191\u001b[0m, in \u001b[0;36mArticle.parse\u001b[0;34m(self)\u001b[0m\n\u001b[1;32m    190\u001b[0m \u001b[38;5;28;01mdef\u001b[39;00m \u001b[38;5;21mparse\u001b[39m(\u001b[38;5;28mself\u001b[39m):\n\u001b[0;32m--> 191\u001b[0m     \u001b[38;5;28;43mself\u001b[39;49m\u001b[38;5;241;43m.\u001b[39;49m\u001b[43mthrow_if_not_downloaded_verbose\u001b[49m\u001b[43m(\u001b[49m\u001b[43m)\u001b[49m\n\u001b[1;32m    193\u001b[0m     \u001b[38;5;28mself\u001b[39m\u001b[38;5;241m.\u001b[39mdoc \u001b[38;5;241m=\u001b[39m \u001b[38;5;28mself\u001b[39m\u001b[38;5;241m.\u001b[39mconfig\u001b[38;5;241m.\u001b[39mget_parser()\u001b[38;5;241m.\u001b[39mfromstring(\u001b[38;5;28mself\u001b[39m\u001b[38;5;241m.\u001b[39mhtml)\n\u001b[1;32m    194\u001b[0m     \u001b[38;5;28mself\u001b[39m\u001b[38;5;241m.\u001b[39mclean_doc \u001b[38;5;241m=\u001b[39m copy\u001b[38;5;241m.\u001b[39mdeepcopy(\u001b[38;5;28mself\u001b[39m\u001b[38;5;241m.\u001b[39mdoc)\n",
      "File \u001b[0;32m~/.pyenv/versions/3.8.12/envs/femicide_media_watch/lib/python3.8/site-packages/newspaper/article.py:531\u001b[0m, in \u001b[0;36mArticle.throw_if_not_downloaded_verbose\u001b[0;34m(self)\u001b[0m\n\u001b[1;32m    529\u001b[0m     \u001b[38;5;28;01mraise\u001b[39;00m ArticleException(\u001b[38;5;124m'\u001b[39m\u001b[38;5;124mYou must `download()` an article first!\u001b[39m\u001b[38;5;124m'\u001b[39m)\n\u001b[1;32m    530\u001b[0m \u001b[38;5;28;01melif\u001b[39;00m \u001b[38;5;28mself\u001b[39m\u001b[38;5;241m.\u001b[39mdownload_state \u001b[38;5;241m==\u001b[39m ArticleDownloadState\u001b[38;5;241m.\u001b[39mFAILED_RESPONSE:\n\u001b[0;32m--> 531\u001b[0m     \u001b[38;5;28;01mraise\u001b[39;00m ArticleException(\u001b[38;5;124m'\u001b[39m\u001b[38;5;124mArticle `download()` failed with \u001b[39m\u001b[38;5;132;01m%s\u001b[39;00m\u001b[38;5;124m on URL \u001b[39m\u001b[38;5;132;01m%s\u001b[39;00m\u001b[38;5;124m'\u001b[39m \u001b[38;5;241m%\u001b[39m\n\u001b[1;32m    532\u001b[0m           (\u001b[38;5;28mself\u001b[39m\u001b[38;5;241m.\u001b[39mdownload_exception_msg, \u001b[38;5;28mself\u001b[39m\u001b[38;5;241m.\u001b[39murl))\n",
      "\u001b[0;31mArticleException\u001b[0m: Article `download()` failed with No connection adapters were found for ':/“ ’ take risk – stay u ” say one slogan nueva castilla motel £ per night roadside inn mexican city monterrey horrifying discovery dead teenager lodge ’ water tank sparked nationwide outcry protest country facing spiraling femicide crisis saw woman murdered last year gender interactive demonstrator gathered outside motel monday night latest series rally demanding justice debanhi susana escobar bazaldúa whose disappearance apparent murder rekindled devastating memory wave killing border city ciudad juárez two decade ago “ femicide nation ” read one dozen handmade placard left outside shrine remembering yearold law student “ destroyed inside ” victim ’ father mario escobar told journalist saturday daughter laid rest hilltop cemetery northern mexico related hunting men kill woman mexico ’ femicide detective mystery still surround happened escobar budding lawyer vanished leaving party early hour saturday april whose corpse found last thursday day later case – latest string genderrelated killing disappearance young woman year – scandalized mexico least woman reported missing nuevo león year majority around capital monterrey escobar argued friend taxi reportedly called take back home industrial suburb monterrey instead reason unknown teenager left empty motorway hundred metre motel driver accused making unwanted advance passenger took haunting final photograph student standing alone roadside long brown skirt hightop trainer video evidence reportedly show soon dropped escobar entered nueva castilla motel “ debhani went building trying understand happened … ended inside cistern ” father told reporter monday demonstrator mexico city demanded justice death debanhi escobar bazaldúa april photograph gerardo vieyranurphotorexshutterstock investigator say escobar died blunt force trauma head initially suggested victim might accidentally fallen death – version father emphatically rejected claiming beaten strangled “ murder killed … stop cleared ” mario escobar commissioned second independent autopsy vowed seek third necessary told reporter public anger compounded fact took nearly fortnight escobar ’ body found despite police searching motel least four occasion operation included sniffer dog drone escobar ’ death exposed activist call mexico ’ worsening gender violence crisis botched apathetic response authority last year mexico recorded case femicide – woman murdered specifically gender – compared overall woman killed “ happened debhani happens thousand case across country daily basis ” said edith olivares ferreto executive director amnesty international mexico “ eleven woman killed country every day least woman missing mexico state ’ failure searching woman investigating happened remained unchanged almost year ” added activist posted image murdered woman outside attorney general ’ office mexico city photograph luis barroneyepix groupeyepixzuma press wirerexshutterstock activist frida guerrera try track perpetrator crime denounced described neverending nightmare “ every single day ” guerrera blamed rampant impunity emergency country crime go unsolved “ woman killed nothing happens kill whole family whole society police find body sometimes investigation stop predator never brought justice next day ’ taken another girl people ’ understand ’ daughter ” said urging mexican take crisis seriously “ society forget like forgotten society reality worried ” dolores bazaldúa mother debanhi escobar handed poster daughter ’ image day search photograph daniel becerrilreuters many woman ’ right advocate hoped progress supposedly progressive andrés manuel lópez obrador elected president related mexico activist voice anger amlo ’ failure tackle ‘ femicide emergency ’ yet lópez obrador yearold nationalist known amlo repeatedly clashed feminist movement time suggesting campaigner tool conservative political rival early series murder provoked demonstration called mexico ’ feminist spring masked protester surrounded presidential palace mexico city daubed wall word “ amlo killing u ” last week escobar ’ body found amlo drew criticism claiming citizen reason worry “ happens everywhere ” said olivares ferreto voiced frustration called amlo ’ repeated attempt downplay scale violence government hostility towards “ legitimate struggle mexican woman ” safe “ one government vocal attacking feminist movement recent decade ” said “ want state job talking reinventing wheel ” olivares ferreto remembered nearly two decade ago human right group released report called intolerable killing internationally notorious wave femicides ciudad juárez – bungled official response “ tragically happening ciudad juárez happening across entire country ” said “ country become one big ciudad juárez ”' on URL :/“ ’ take risk – stay u ” say one slogan nueva castilla motel £ per night roadside inn mexican city monterrey horrifying discovery dead teenager lodge ’ water tank sparked nationwide outcry protest country facing spiraling femicide crisis saw woman murdered last year gender interactive demonstrator gathered outside motel monday night latest series rally demanding justice debanhi susana escobar bazaldúa whose disappearance apparent murder rekindled devastating memory wave killing border city ciudad juárez two decade ago “ femicide nation ” read one dozen handmade placard left outside shrine remembering yearold law student “ destroyed inside ” victim ’ father mario escobar told journalist saturday daughter laid rest hilltop cemetery northern mexico related hunting men kill woman mexico ’ femicide detective mystery still surround happened escobar budding lawyer vanished leaving party early hour saturday april whose corpse found last thursday day later case – latest string genderrelated killing disappearance young woman year – scandalized mexico least woman reported missing nuevo león year majority around capital monterrey escobar argued friend taxi reportedly called take back home industrial suburb monterrey instead reason unknown teenager left empty motorway hundred metre motel driver accused making unwanted advance passenger took haunting final photograph student standing alone roadside long brown skirt hightop trainer video evidence reportedly show soon dropped escobar entered nueva castilla motel “ debhani went building trying understand happened … ended inside cistern ” father told reporter monday demonstrator mexico city demanded justice death debanhi escobar bazaldúa april photograph gerardo vieyranurphotorexshutterstock investigator say escobar died blunt force trauma head initially suggested victim might accidentally fallen death – version father emphatically rejected claiming beaten strangled “ murder killed … stop cleared ” mario escobar commissioned second independent autopsy vowed seek third necessary told reporter public anger compounded fact took nearly fortnight escobar ’ body found despite police searching motel least four occasion operation included sniffer dog drone escobar ’ death exposed activist call mexico ’ worsening gender violence crisis botched apathetic response authority last year mexico recorded case femicide – woman murdered specifically gender – compared overall woman killed “ happened debhani happens thousand case across country daily basis ” said edith olivares ferreto executive director amnesty international mexico “ eleven woman killed country every day least woman missing mexico state ’ failure searching woman investigating happened remained unchanged almost year ” added activist posted image murdered woman outside attorney general ’ office mexico city photograph luis barroneyepix groupeyepixzuma press wirerexshutterstock activist frida guerrera try track perpetrator crime denounced described neverending nightmare “ every single day ” guerrera blamed rampant impunity emergency country crime go unsolved “ woman killed nothing happens kill whole family whole society police find body sometimes investigation stop predator never brought justice next day ’ taken another girl people ’ understand ’ daughter ” said urging mexican take crisis seriously “ society forget like forgotten society reality worried ” dolores bazaldúa mother debanhi escobar handed poster daughter ’ image day search photograph daniel becerrilreuters many woman ’ right advocate hoped progress supposedly progressive andrés manuel lópez obrador elected president related mexico activist voice anger amlo ’ failure tackle ‘ femicide emergency ’ yet lópez obrador yearold nationalist known amlo repeatedly clashed feminist movement time suggesting campaigner tool conservative political rival early series murder provoked demonstration called mexico ’ feminist spring masked protester surrounded presidential palace mexico city daubed wall word “ amlo killing u ” last week escobar ’ body found amlo drew criticism claiming citizen reason worry “ happens everywhere ” said olivares ferreto voiced frustration called amlo ’ repeated attempt downplay scale violence government hostility towards “ legitimate struggle mexican woman ” safe “ one government vocal attacking feminist movement recent decade ” said “ want state job talking reinventing wheel ” olivares ferreto remembered nearly two decade ago human right group released report called intolerable killing internationally notorious wave femicides ciudad juárez – bungled official response “ tragically happening ciudad juárez happening across entire country ” said “ country become one big ciudad juárez ”"
     ]
    }
   ],
   "source": [
    "places = geograpy.get_geoPlace_context(text=df.clean_text[0]).countries\n",
    "print(places)"
   ]
  },
  {
   "cell_type": "code",
   "execution_count": 126,
   "metadata": {},
   "outputs": [
    {
     "ename": "NameError",
     "evalue": "name 'geopy' is not defined",
     "output_type": "error",
     "traceback": [
      "\u001b[0;31m---------------------------------------------------------------------------\u001b[0m",
      "\u001b[0;31mNameError\u001b[0m                                 Traceback (most recent call last)",
      "Input \u001b[0;32mIn [126]\u001b[0m, in \u001b[0;36m<cell line: 1>\u001b[0;34m()\u001b[0m\n\u001b[0;32m----> 1\u001b[0m locator \u001b[38;5;241m=\u001b[39m \u001b[43mgeopy\u001b[49m\u001b[38;5;241m.\u001b[39mgeocoders\u001b[38;5;241m.\u001b[39mNominatim(user_agent\u001b[38;5;241m=\u001b[39m\u001b[38;5;124m\"\u001b[39m\u001b[38;5;124mmygeocoder\u001b[39m\u001b[38;5;124m\"\u001b[39m)\n\u001b[1;32m      2\u001b[0m geocode \u001b[38;5;241m=\u001b[39m RateLimiter(locator\u001b[38;5;241m.\u001b[39mgeocode, min_delay_seconds\u001b[38;5;241m=\u001b[39m\u001b[38;5;241m1\u001b[39m)\n",
      "\u001b[0;31mNameError\u001b[0m: name 'geopy' is not defined"
     ]
    }
   ],
   "source": [
    "locator = geopy.geocoders.Nominatim(user_agent=\"mygeocoder\")\n",
    "geocode = RateLimiter(locator.geocode, min_delay_seconds=1)\n",
    "\n"
   ]
  },
  {
   "cell_type": "code",
   "execution_count": 121,
   "metadata": {},
   "outputs": [
    {
     "name": "stdout",
     "output_type": "stream",
     "text": [
      "hilltop cemetery northern mexico\n",
      "mexico\n",
      "monterrey\n",
      "empty motorway\n",
      "mexico city\n",
      "mexico\n",
      "mexico\n",
      "palace mexico city\n"
     ]
    }
   ],
   "source": [
    "\n"
   ]
  },
  {
   "cell_type": "code",
   "execution_count": null,
   "metadata": {},
   "outputs": [],
   "source": []
  },
  {
   "cell_type": "code",
   "execution_count": null,
   "metadata": {},
   "outputs": [],
   "source": []
  },
  {
   "cell_type": "markdown",
   "metadata": {},
   "source": [
    "## (1) Cleaning the (text) dataset"
   ]
  },
  {
   "cell_type": "markdown",
   "metadata": {},
   "source": [
    "The dataset is made up of emails that are classified as ham [0] or spam[1]. You need to clean the dataset before training a prediction model."
   ]
  },
  {
   "cell_type": "markdown",
   "metadata": {},
   "source": [
    "### (1.1) Remove Punctuation"
   ]
  },
  {
   "cell_type": "markdown",
   "metadata": {},
   "source": [
    "❓ Create a function to remove the punctuation. Apply it to the `text` column and add the output to a new column in the dataframe called `clean_text` ❓"
   ]
  },
  {
   "cell_type": "code",
   "execution_count": null,
   "metadata": {
    "tags": [
     "challengify"
    ]
   },
   "outputs": [
    {
     "data": {
      "text/html": [
       "<div>\n",
       "<style scoped>\n",
       "    .dataframe tbody tr th:only-of-type {\n",
       "        vertical-align: middle;\n",
       "    }\n",
       "\n",
       "    .dataframe tbody tr th {\n",
       "        vertical-align: top;\n",
       "    }\n",
       "\n",
       "    .dataframe thead th {\n",
       "        text-align: right;\n",
       "    }\n",
       "</style>\n",
       "<table border=\"1\" class=\"dataframe\">\n",
       "  <thead>\n",
       "    <tr style=\"text-align: right;\">\n",
       "      <th></th>\n",
       "      <th>text</th>\n",
       "      <th>spam</th>\n",
       "      <th>clean_text</th>\n",
       "    </tr>\n",
       "  </thead>\n",
       "  <tbody>\n",
       "    <tr>\n",
       "      <th>0</th>\n",
       "      <td>Subject: naturally irresistible your corporate...</td>\n",
       "      <td>1</td>\n",
       "      <td>Subject  naturally irresistible your corporate...</td>\n",
       "    </tr>\n",
       "    <tr>\n",
       "      <th>1</th>\n",
       "      <td>Subject: the stock trading gunslinger  fanny i...</td>\n",
       "      <td>1</td>\n",
       "      <td>Subject  the stock trading gunslinger  fanny i...</td>\n",
       "    </tr>\n",
       "    <tr>\n",
       "      <th>2</th>\n",
       "      <td>Subject: unbelievable new homes made easy  im ...</td>\n",
       "      <td>1</td>\n",
       "      <td>Subject  unbelievable new homes made easy  im ...</td>\n",
       "    </tr>\n",
       "    <tr>\n",
       "      <th>3</th>\n",
       "      <td>Subject: 4 color printing special  request add...</td>\n",
       "      <td>1</td>\n",
       "      <td>Subject  4 color printing special  request add...</td>\n",
       "    </tr>\n",
       "    <tr>\n",
       "      <th>4</th>\n",
       "      <td>Subject: do not have money , get software cds ...</td>\n",
       "      <td>1</td>\n",
       "      <td>Subject  do not have money   get software cds ...</td>\n",
       "    </tr>\n",
       "  </tbody>\n",
       "</table>\n",
       "</div>"
      ],
      "text/plain": [
       "                                                text  spam  \\\n",
       "0  Subject: naturally irresistible your corporate...     1   \n",
       "1  Subject: the stock trading gunslinger  fanny i...     1   \n",
       "2  Subject: unbelievable new homes made easy  im ...     1   \n",
       "3  Subject: 4 color printing special  request add...     1   \n",
       "4  Subject: do not have money , get software cds ...     1   \n",
       "\n",
       "                                          clean_text  \n",
       "0  Subject  naturally irresistible your corporate...  \n",
       "1  Subject  the stock trading gunslinger  fanny i...  \n",
       "2  Subject  unbelievable new homes made easy  im ...  \n",
       "3  Subject  4 color printing special  request add...  \n",
       "4  Subject  do not have money   get software cds ...  "
      ]
     },
     "execution_count": null,
     "metadata": {},
     "output_type": "execute_result"
    }
   ],
   "source": [
    "import string\n",
    "\n",
    "def remove_punctuation(text):\n",
    "    for punctuation in string.punctuation: \n",
    "        text = text.replace(punctuation, ' ') \n",
    "    return text\n",
    "\n",
    "df['clean_text'] = df.text.apply(remove_punctuation)\n",
    "\n",
    "df.head()"
   ]
  },
  {
   "cell_type": "markdown",
   "metadata": {},
   "source": [
    "### (1.2) Lower Case"
   ]
  },
  {
   "cell_type": "markdown",
   "metadata": {},
   "source": [
    "❓ Create a function to lowercase the text. Apply it to `clean_text` ❓"
   ]
  },
  {
   "cell_type": "code",
   "execution_count": null,
   "metadata": {
    "tags": [
     "challengify"
    ]
   },
   "outputs": [
    {
     "data": {
      "text/html": [
       "<div>\n",
       "<style scoped>\n",
       "    .dataframe tbody tr th:only-of-type {\n",
       "        vertical-align: middle;\n",
       "    }\n",
       "\n",
       "    .dataframe tbody tr th {\n",
       "        vertical-align: top;\n",
       "    }\n",
       "\n",
       "    .dataframe thead th {\n",
       "        text-align: right;\n",
       "    }\n",
       "</style>\n",
       "<table border=\"1\" class=\"dataframe\">\n",
       "  <thead>\n",
       "    <tr style=\"text-align: right;\">\n",
       "      <th></th>\n",
       "      <th>text</th>\n",
       "      <th>spam</th>\n",
       "      <th>clean_text</th>\n",
       "    </tr>\n",
       "  </thead>\n",
       "  <tbody>\n",
       "    <tr>\n",
       "      <th>0</th>\n",
       "      <td>Subject: naturally irresistible your corporate...</td>\n",
       "      <td>1</td>\n",
       "      <td>subject  naturally irresistible your corporate...</td>\n",
       "    </tr>\n",
       "    <tr>\n",
       "      <th>1</th>\n",
       "      <td>Subject: the stock trading gunslinger  fanny i...</td>\n",
       "      <td>1</td>\n",
       "      <td>subject  the stock trading gunslinger  fanny i...</td>\n",
       "    </tr>\n",
       "    <tr>\n",
       "      <th>2</th>\n",
       "      <td>Subject: unbelievable new homes made easy  im ...</td>\n",
       "      <td>1</td>\n",
       "      <td>subject  unbelievable new homes made easy  im ...</td>\n",
       "    </tr>\n",
       "    <tr>\n",
       "      <th>3</th>\n",
       "      <td>Subject: 4 color printing special  request add...</td>\n",
       "      <td>1</td>\n",
       "      <td>subject  4 color printing special  request add...</td>\n",
       "    </tr>\n",
       "    <tr>\n",
       "      <th>4</th>\n",
       "      <td>Subject: do not have money , get software cds ...</td>\n",
       "      <td>1</td>\n",
       "      <td>subject  do not have money   get software cds ...</td>\n",
       "    </tr>\n",
       "  </tbody>\n",
       "</table>\n",
       "</div>"
      ],
      "text/plain": [
       "                                                text  spam  \\\n",
       "0  Subject: naturally irresistible your corporate...     1   \n",
       "1  Subject: the stock trading gunslinger  fanny i...     1   \n",
       "2  Subject: unbelievable new homes made easy  im ...     1   \n",
       "3  Subject: 4 color printing special  request add...     1   \n",
       "4  Subject: do not have money , get software cds ...     1   \n",
       "\n",
       "                                          clean_text  \n",
       "0  subject  naturally irresistible your corporate...  \n",
       "1  subject  the stock trading gunslinger  fanny i...  \n",
       "2  subject  unbelievable new homes made easy  im ...  \n",
       "3  subject  4 color printing special  request add...  \n",
       "4  subject  do not have money   get software cds ...  "
      ]
     },
     "execution_count": null,
     "metadata": {},
     "output_type": "execute_result"
    }
   ],
   "source": [
    "def lowercase (text): \n",
    "    lowercased = text.lower() \n",
    "    return lowercased\n",
    "\n",
    "df['clean_text'] = df.clean_text.apply(lowercase)\n",
    "\n",
    "df.head()"
   ]
  },
  {
   "cell_type": "markdown",
   "metadata": {},
   "source": [
    "### (1.3) Remove Numbers"
   ]
  },
  {
   "cell_type": "markdown",
   "metadata": {},
   "source": [
    "❓ Create a function to remove numbers from the text. Apply it to `clean_text` ❓"
   ]
  },
  {
   "cell_type": "code",
   "execution_count": null,
   "metadata": {
    "tags": [
     "challengify"
    ]
   },
   "outputs": [
    {
     "data": {
      "text/html": [
       "<div>\n",
       "<style scoped>\n",
       "    .dataframe tbody tr th:only-of-type {\n",
       "        vertical-align: middle;\n",
       "    }\n",
       "\n",
       "    .dataframe tbody tr th {\n",
       "        vertical-align: top;\n",
       "    }\n",
       "\n",
       "    .dataframe thead th {\n",
       "        text-align: right;\n",
       "    }\n",
       "</style>\n",
       "<table border=\"1\" class=\"dataframe\">\n",
       "  <thead>\n",
       "    <tr style=\"text-align: right;\">\n",
       "      <th></th>\n",
       "      <th>text</th>\n",
       "      <th>spam</th>\n",
       "      <th>clean_text</th>\n",
       "    </tr>\n",
       "  </thead>\n",
       "  <tbody>\n",
       "    <tr>\n",
       "      <th>0</th>\n",
       "      <td>Subject: naturally irresistible your corporate...</td>\n",
       "      <td>1</td>\n",
       "      <td>subject  naturally irresistible your corporate...</td>\n",
       "    </tr>\n",
       "    <tr>\n",
       "      <th>1</th>\n",
       "      <td>Subject: the stock trading gunslinger  fanny i...</td>\n",
       "      <td>1</td>\n",
       "      <td>subject  the stock trading gunslinger  fanny i...</td>\n",
       "    </tr>\n",
       "    <tr>\n",
       "      <th>2</th>\n",
       "      <td>Subject: unbelievable new homes made easy  im ...</td>\n",
       "      <td>1</td>\n",
       "      <td>subject  unbelievable new homes made easy  im ...</td>\n",
       "    </tr>\n",
       "    <tr>\n",
       "      <th>3</th>\n",
       "      <td>Subject: 4 color printing special  request add...</td>\n",
       "      <td>1</td>\n",
       "      <td>subject   color printing special  request addi...</td>\n",
       "    </tr>\n",
       "    <tr>\n",
       "      <th>4</th>\n",
       "      <td>Subject: do not have money , get software cds ...</td>\n",
       "      <td>1</td>\n",
       "      <td>subject  do not have money   get software cds ...</td>\n",
       "    </tr>\n",
       "  </tbody>\n",
       "</table>\n",
       "</div>"
      ],
      "text/plain": [
       "                                                text  spam  \\\n",
       "0  Subject: naturally irresistible your corporate...     1   \n",
       "1  Subject: the stock trading gunslinger  fanny i...     1   \n",
       "2  Subject: unbelievable new homes made easy  im ...     1   \n",
       "3  Subject: 4 color printing special  request add...     1   \n",
       "4  Subject: do not have money , get software cds ...     1   \n",
       "\n",
       "                                          clean_text  \n",
       "0  subject  naturally irresistible your corporate...  \n",
       "1  subject  the stock trading gunslinger  fanny i...  \n",
       "2  subject  unbelievable new homes made easy  im ...  \n",
       "3  subject   color printing special  request addi...  \n",
       "4  subject  do not have money   get software cds ...  "
      ]
     },
     "execution_count": null,
     "metadata": {},
     "output_type": "execute_result"
    }
   ],
   "source": [
    "def remove_numbers (text):\n",
    "    words_only = ''.join([i for i in text if not i.isdigit()])\n",
    "    return words_only\n",
    "\n",
    "df['clean_text'] = df.clean_text.apply(remove_numbers)\n",
    "\n",
    "df.head()"
   ]
  },
  {
   "cell_type": "markdown",
   "metadata": {},
   "source": [
    "### (1.4) Remove StopWords"
   ]
  },
  {
   "cell_type": "markdown",
   "metadata": {},
   "source": [
    "❓ Create a function to remove stopwords from the text. Apply it to `clean_text`. ❓"
   ]
  },
  {
   "cell_type": "code",
   "execution_count": null,
   "metadata": {
    "tags": [
     "challengify"
    ]
   },
   "outputs": [
    {
     "data": {
      "text/html": [
       "<div>\n",
       "<style scoped>\n",
       "    .dataframe tbody tr th:only-of-type {\n",
       "        vertical-align: middle;\n",
       "    }\n",
       "\n",
       "    .dataframe tbody tr th {\n",
       "        vertical-align: top;\n",
       "    }\n",
       "\n",
       "    .dataframe thead th {\n",
       "        text-align: right;\n",
       "    }\n",
       "</style>\n",
       "<table border=\"1\" class=\"dataframe\">\n",
       "  <thead>\n",
       "    <tr style=\"text-align: right;\">\n",
       "      <th></th>\n",
       "      <th>text</th>\n",
       "      <th>spam</th>\n",
       "      <th>clean_text</th>\n",
       "    </tr>\n",
       "  </thead>\n",
       "  <tbody>\n",
       "    <tr>\n",
       "      <th>0</th>\n",
       "      <td>Subject: naturally irresistible your corporate...</td>\n",
       "      <td>1</td>\n",
       "      <td>[subject, naturally, irresistible, corporate, ...</td>\n",
       "    </tr>\n",
       "    <tr>\n",
       "      <th>1</th>\n",
       "      <td>Subject: the stock trading gunslinger  fanny i...</td>\n",
       "      <td>1</td>\n",
       "      <td>[subject, stock, trading, gunslinger, fanny, m...</td>\n",
       "    </tr>\n",
       "    <tr>\n",
       "      <th>2</th>\n",
       "      <td>Subject: unbelievable new homes made easy  im ...</td>\n",
       "      <td>1</td>\n",
       "      <td>[subject, unbelievable, new, homes, made, easy...</td>\n",
       "    </tr>\n",
       "    <tr>\n",
       "      <th>3</th>\n",
       "      <td>Subject: 4 color printing special  request add...</td>\n",
       "      <td>1</td>\n",
       "      <td>[subject, color, printing, special, request, a...</td>\n",
       "    </tr>\n",
       "    <tr>\n",
       "      <th>4</th>\n",
       "      <td>Subject: do not have money , get software cds ...</td>\n",
       "      <td>1</td>\n",
       "      <td>[subject, money, get, software, cds, software,...</td>\n",
       "    </tr>\n",
       "  </tbody>\n",
       "</table>\n",
       "</div>"
      ],
      "text/plain": [
       "                                                text  spam  \\\n",
       "0  Subject: naturally irresistible your corporate...     1   \n",
       "1  Subject: the stock trading gunslinger  fanny i...     1   \n",
       "2  Subject: unbelievable new homes made easy  im ...     1   \n",
       "3  Subject: 4 color printing special  request add...     1   \n",
       "4  Subject: do not have money , get software cds ...     1   \n",
       "\n",
       "                                          clean_text  \n",
       "0  [subject, naturally, irresistible, corporate, ...  \n",
       "1  [subject, stock, trading, gunslinger, fanny, m...  \n",
       "2  [subject, unbelievable, new, homes, made, easy...  \n",
       "3  [subject, color, printing, special, request, a...  \n",
       "4  [subject, money, get, software, cds, software,...  "
      ]
     },
     "execution_count": null,
     "metadata": {},
     "output_type": "execute_result"
    }
   ],
   "source": [
    "from nltk.corpus import stopwords \n",
    "from nltk import word_tokenize\n",
    "\n",
    "stop_words = set(stopwords.words('english')) \n",
    "\n",
    "# Create function\n",
    "def remove_stopwords (text):\n",
    "    tokenized = word_tokenize(text)\n",
    "    without_stopwords = [word for word in tokenized if not word in stop_words]\n",
    "    return without_stopwords\n",
    "\n",
    "df['clean_text'] = df.clean_text.apply(remove_stopwords)\n",
    "\n",
    "df.head()"
   ]
  },
  {
   "cell_type": "markdown",
   "metadata": {},
   "source": [
    "### (1.5) Lemmatize"
   ]
  },
  {
   "cell_type": "markdown",
   "metadata": {},
   "source": [
    "❓ Create a function to lemmatize the text. Make sure the output is a single string, not a list of words. Apply it to `clean_text`. ❓"
   ]
  },
  {
   "cell_type": "code",
   "execution_count": 82,
   "metadata": {},
   "outputs": [],
   "source": [
    "df_solo_1= df[df.topic ==1]"
   ]
  },
  {
   "cell_type": "code",
   "execution_count": 83,
   "metadata": {
    "tags": [
     "challengify"
    ]
   },
   "outputs": [
    {
     "name": "stderr",
     "output_type": "stream",
     "text": [
      "/var/folders/7l/db_s78_d7jjf7_b06dfk7fq80000gn/T/ipykernel_70603/667525662.py:9: SettingWithCopyWarning: \n",
      "A value is trying to be set on a copy of a slice from a DataFrame.\n",
      "Try using .loc[row_indexer,col_indexer] = value instead\n",
      "\n",
      "See the caveats in the documentation: https://pandas.pydata.org/pandas-docs/stable/user_guide/indexing.html#returning-a-view-versus-a-copy\n",
      "  df_solo_1['clean_text'] = df_solo_1.clean_text.apply(lemma)\n"
     ]
    },
    {
     "data": {
      "text/html": [
       "<div>\n",
       "<style scoped>\n",
       "    .dataframe tbody tr th:only-of-type {\n",
       "        vertical-align: middle;\n",
       "    }\n",
       "\n",
       "    .dataframe tbody tr th {\n",
       "        vertical-align: top;\n",
       "    }\n",
       "\n",
       "    .dataframe thead th {\n",
       "        text-align: right;\n",
       "    }\n",
       "</style>\n",
       "<table border=\"1\" class=\"dataframe\">\n",
       "  <thead>\n",
       "    <tr style=\"text-align: right;\">\n",
       "      <th></th>\n",
       "      <th>id</th>\n",
       "      <th>type</th>\n",
       "      <th>sectionId</th>\n",
       "      <th>sectionName</th>\n",
       "      <th>webPublicationDate</th>\n",
       "      <th>webTitle</th>\n",
       "      <th>webUrl</th>\n",
       "      <th>apiUrl</th>\n",
       "      <th>isHosted</th>\n",
       "      <th>pillarId</th>\n",
       "      <th>pillarName</th>\n",
       "      <th>clean_text</th>\n",
       "      <th>topic</th>\n",
       "      <th>femicide</th>\n",
       "      <th>cases</th>\n",
       "    </tr>\n",
       "  </thead>\n",
       "  <tbody>\n",
       "    <tr>\n",
       "      <th>1</th>\n",
       "      <td>uk-news/2022/mar/15/liverpool-inquiry-launched...</td>\n",
       "      <td>article</td>\n",
       "      <td>uk-news</td>\n",
       "      <td>UK news</td>\n",
       "      <td>2022-03-15T12:02:34Z</td>\n",
       "      <td>Woman held on suspicion of murder after man st...</td>\n",
       "      <td>https://www.theguardian.com/uk-news/2022/mar/1...</td>\n",
       "      <td>https://content.guardianapis.com/uk-news/2022/...</td>\n",
       "      <td>False</td>\n",
       "      <td>pillar/news</td>\n",
       "      <td>News</td>\n",
       "      <td>w o m a n   a r r e s t e d   s u s p i c i o ...</td>\n",
       "      <td>1</td>\n",
       "      <td>1</td>\n",
       "      <td>False</td>\n",
       "    </tr>\n",
       "    <tr>\n",
       "      <th>2</th>\n",
       "      <td>global-development/2021/nov/10/a-woman-murdere...</td>\n",
       "      <td>article</td>\n",
       "      <td>global-development</td>\n",
       "      <td>Global development</td>\n",
       "      <td>2021-11-10T12:00:04Z</td>\n",
       "      <td>A woman murdered every month: is this Greece’s...</td>\n",
       "      <td>https://www.theguardian.com/global-development...</td>\n",
       "      <td>https://content.guardianapis.com/global-develo...</td>\n",
       "      <td>False</td>\n",
       "      <td>pillar/news</td>\n",
       "      <td>News</td>\n",
       "      <td>w o m a n   r e p o r t e d   d o m e s t i c ...</td>\n",
       "      <td>1</td>\n",
       "      <td>1</td>\n",
       "      <td>True</td>\n",
       "    </tr>\n",
       "    <tr>\n",
       "      <th>4</th>\n",
       "      <td>society/2022/feb/27/femicide-census-theres-a-d...</td>\n",
       "      <td>article</td>\n",
       "      <td>society</td>\n",
       "      <td>Society</td>\n",
       "      <td>2022-02-27T08:00:07Z</td>\n",
       "      <td>Femicide Census: there’s a disturbing reason f...</td>\n",
       "      <td>https://www.theguardian.com/society/2022/feb/2...</td>\n",
       "      <td>https://content.guardianapis.com/society/2022/...</td>\n",
       "      <td>False</td>\n",
       "      <td>pillar/news</td>\n",
       "      <td>News</td>\n",
       "      <td>f e m i c i d e   c e n s u s   u s u a l l y ...</td>\n",
       "      <td>1</td>\n",
       "      <td>1</td>\n",
       "      <td>True</td>\n",
       "    </tr>\n",
       "    <tr>\n",
       "      <th>5</th>\n",
       "      <td>uk-news/2022/apr/02/man-arrested-woman-stabbin...</td>\n",
       "      <td>article</td>\n",
       "      <td>uk-news</td>\n",
       "      <td>UK news</td>\n",
       "      <td>2022-04-02T15:46:26Z</td>\n",
       "      <td>Man arrested after elderly woman stabbed to de...</td>\n",
       "      <td>https://www.theguardian.com/uk-news/2022/apr/0...</td>\n",
       "      <td>https://content.guardianapis.com/uk-news/2022/...</td>\n",
       "      <td>False</td>\n",
       "      <td>pillar/news</td>\n",
       "      <td>News</td>\n",
       "      <td>p o l i c e   a r r e s t e d   m a n   e l d ...</td>\n",
       "      <td>1</td>\n",
       "      <td>1</td>\n",
       "      <td>True</td>\n",
       "    </tr>\n",
       "    <tr>\n",
       "      <th>7</th>\n",
       "      <td>global-development/2021/dec/21/greece-femicide...</td>\n",
       "      <td>article</td>\n",
       "      <td>global-development</td>\n",
       "      <td>Global development</td>\n",
       "      <td>2021-12-21T11:47:37Z</td>\n",
       "      <td>Calls for femicide to become separate crime in...</td>\n",
       "      <td>https://www.theguardian.com/global-development...</td>\n",
       "      <td>https://content.guardianapis.com/global-develo...</td>\n",
       "      <td>False</td>\n",
       "      <td>pillar/news</td>\n",
       "      <td>News</td>\n",
       "      <td>g r e e k   g o v e r n m e n t   c o m e   g ...</td>\n",
       "      <td>1</td>\n",
       "      <td>1</td>\n",
       "      <td>True</td>\n",
       "    </tr>\n",
       "  </tbody>\n",
       "</table>\n",
       "</div>"
      ],
      "text/plain": [
       "                                                  id     type  \\\n",
       "1  uk-news/2022/mar/15/liverpool-inquiry-launched...  article   \n",
       "2  global-development/2021/nov/10/a-woman-murdere...  article   \n",
       "4  society/2022/feb/27/femicide-census-theres-a-d...  article   \n",
       "5  uk-news/2022/apr/02/man-arrested-woman-stabbin...  article   \n",
       "7  global-development/2021/dec/21/greece-femicide...  article   \n",
       "\n",
       "            sectionId         sectionName    webPublicationDate  \\\n",
       "1             uk-news             UK news  2022-03-15T12:02:34Z   \n",
       "2  global-development  Global development  2021-11-10T12:00:04Z   \n",
       "4             society             Society  2022-02-27T08:00:07Z   \n",
       "5             uk-news             UK news  2022-04-02T15:46:26Z   \n",
       "7  global-development  Global development  2021-12-21T11:47:37Z   \n",
       "\n",
       "                                            webTitle  \\\n",
       "1  Woman held on suspicion of murder after man st...   \n",
       "2  A woman murdered every month: is this Greece’s...   \n",
       "4  Femicide Census: there’s a disturbing reason f...   \n",
       "5  Man arrested after elderly woman stabbed to de...   \n",
       "7  Calls for femicide to become separate crime in...   \n",
       "\n",
       "                                              webUrl  \\\n",
       "1  https://www.theguardian.com/uk-news/2022/mar/1...   \n",
       "2  https://www.theguardian.com/global-development...   \n",
       "4  https://www.theguardian.com/society/2022/feb/2...   \n",
       "5  https://www.theguardian.com/uk-news/2022/apr/0...   \n",
       "7  https://www.theguardian.com/global-development...   \n",
       "\n",
       "                                              apiUrl  isHosted     pillarId  \\\n",
       "1  https://content.guardianapis.com/uk-news/2022/...     False  pillar/news   \n",
       "2  https://content.guardianapis.com/global-develo...     False  pillar/news   \n",
       "4  https://content.guardianapis.com/society/2022/...     False  pillar/news   \n",
       "5  https://content.guardianapis.com/uk-news/2022/...     False  pillar/news   \n",
       "7  https://content.guardianapis.com/global-develo...     False  pillar/news   \n",
       "\n",
       "  pillarName                                         clean_text  topic  \\\n",
       "1       News  w o m a n   a r r e s t e d   s u s p i c i o ...      1   \n",
       "2       News  w o m a n   r e p o r t e d   d o m e s t i c ...      1   \n",
       "4       News  f e m i c i d e   c e n s u s   u s u a l l y ...      1   \n",
       "5       News  p o l i c e   a r r e s t e d   m a n   e l d ...      1   \n",
       "7       News  g r e e k   g o v e r n m e n t   c o m e   g ...      1   \n",
       "\n",
       "   femicide  cases  \n",
       "1         1  False  \n",
       "2         1   True  \n",
       "4         1   True  \n",
       "5         1   True  \n",
       "7         1   True  "
      ]
     },
     "execution_count": 83,
     "metadata": {},
     "output_type": "execute_result"
    }
   ],
   "source": [
    "from nltk.stem import WordNetLemmatizer\n",
    "\n",
    "def lemma(text):\n",
    "    lemmatizer = WordNetLemmatizer() # Initiate lemmatizer\n",
    "    lemmatized = [lemmatizer.lemmatize(word) for word in text] # Lemmatize\n",
    "    lemmatized_string = \" \".join(lemmatized)\n",
    "    return lemmatized_string\n",
    "\n",
    "df_solo_1['clean_text'] = df_solo_1.clean_text.apply(lemma)\n",
    "\n",
    "df_solo_1.head()"
   ]
  },
  {
   "cell_type": "markdown",
   "metadata": {},
   "source": [
    "## (2) Bag-of-words Modelling"
   ]
  },
  {
   "cell_type": "markdown",
   "metadata": {},
   "source": [
    "### (2.1) Digitizing the textual data into numbers"
   ]
  },
  {
   "cell_type": "markdown",
   "metadata": {},
   "source": [
    "❓ Vectorize the `clean_text` to a Bag-of-Words representation with a default CountVectorizer. Save as `X_bow`. ❓"
   ]
  },
  {
   "cell_type": "code",
   "execution_count": 92,
   "metadata": {
    "tags": [
     "challengify"
    ]
   },
   "outputs": [],
   "source": [
    "from sklearn.feature_extraction.text import CountVectorizer\n",
    "\n",
    "vectorizer = CountVectorizer(ngram_range=(1, 1))\n",
    "\n",
    "#X_bow = vectorizer.fit_transform(df.clean_text)"
   ]
  },
  {
   "cell_type": "code",
   "execution_count": 93,
   "metadata": {},
   "outputs": [],
   "source": [
    "df_solo_1= df[df.topic ==1]\n",
    "df_solo_1_bow=vectorizer.fit_transform(df_solo_1.clean_text)"
   ]
  },
  {
   "cell_type": "code",
   "execution_count": 94,
   "metadata": {},
   "outputs": [
    {
     "data": {
      "text/plain": [
       "<2175x45545 sparse matrix of type '<class 'numpy.int64'>'\n",
       "\twith 691601 stored elements in Compressed Sparse Row format>"
      ]
     },
     "execution_count": 94,
     "metadata": {},
     "output_type": "execute_result"
    }
   ],
   "source": [
    "df_solo_1_bow"
   ]
  },
  {
   "cell_type": "markdown",
   "metadata": {},
   "source": [
    "### (2.2) Multinomial Naive Bayes Modelling"
   ]
  },
  {
   "cell_type": "markdown",
   "metadata": {},
   "source": [
    "❓ Cross-validate a MultinomialNB model with the bag-of-words data. Score the model's accuracy. ❓"
   ]
  },
  {
   "cell_type": "code",
   "execution_count": 95,
   "metadata": {
    "tags": [
     "challengify"
    ]
   },
   "outputs": [
    {
     "data": {
      "text/plain": [
       "0.5691026827012026"
      ]
     },
     "execution_count": 95,
     "metadata": {},
     "output_type": "execute_result"
    }
   ],
   "source": [
    "from sklearn.naive_bayes import MultinomialNB, ComplementNB\n",
    "from sklearn.model_selection import cross_validate\n",
    "\n",
    "cv_nb = cross_validate(MultinomialNB(alpha=0.1), df_solo_1_bow, df_solo_1.cases, scoring = \"recall\")\n",
    "\n",
    "cv_nb['test_score'].mean()"
   ]
  },
  {
   "cell_type": "code",
   "execution_count": null,
   "metadata": {},
   "outputs": [],
   "source": [
    "k_grid = { 'verbose': [True, False],\n",
    " 'functiontransformer': FunctionTransformer(func=<function cleaning_data at 0x12d1f05e0>),\n",
    " 'countvectorizer': CountVectorizer(),\n",
    " 'multinomialnb': MultinomialNB(),\n",
    " 'functiontransformer__accept_sparse': False,\n",
    " 'functiontransformer__check_inverse': True,\n",
    " 'functiontransformer__feature_names_out': None,\n",
    " 'functiontransformer__func': <function FemicideMediaWatch.trainer.cleaning_data(data)>,\n",
    " 'functiontransformer__inv_kw_args': None,\n",
    " 'functiontransformer__inverse_func': None,\n",
    " 'functiontransformer__kw_args': None,\n",
    " 'functiontransformer__validate': False,\n",
    " 'countvectorizer__analyzer': 'word',\n",
    " 'countvectorizer__binary': False,\n",
    " 'countvectorizer__decode_error': 'strict',\n",
    " 'countvectorizer__dtype': numpy.int64,\n",
    " 'countvectorizer__encoding': 'utf-8',\n",
    " 'countvectorizer__input': 'content',\n",
    " 'countvectorizer__lowercase': True,\n",
    " 'countvectorizer__max_df': 1.0,\n",
    " 'countvectorizer__max_features': None,\n",
    " 'countvectorizer__min_df': 1,\n",
    " 'countvectorizer__ngram_range': (1, 1),\n",
    " 'countvectorizer__preprocessor': None,\n",
    " 'countvectorizer__stop_words': None,\n",
    " 'countvectorizer__strip_accents': None,\n",
    " 'countvectorizer__token_pattern': '(?u)\\\\b\\\\w\\\\w+\\\\b',\n",
    " 'countvectorizer__tokenizer': None,\n",
    " 'countvectorizer__vocabulary': None,\n",
    " 'multinomialnb__alpha': 1.0,\n",
    " 'multinomialnb__class_prior': None,\n",
    " 'multinomialnb__fit_prior': True}\n",
    "# $DELETE_END\n",
    "\n",
    "# Instanciate Grid Search\n",
    "# $DELETE_BEGIN\n",
    "grid = GridSearchCV(model, k_grid, n_jobs=-1,  cv = 5)\n",
    "# $DELETE_END\n",
    "\n",
    "# Fit data to Grid Search\n",
    "# $DELETE_BEGIN\n",
    "grid.fit(X_train_scaled, y_train)\n",
    "\n",
    "print(grid.best_params_[\"n_neighbors\"])\n",
    "print(grid.best_score_)"
   ]
  },
  {
   "cell_type": "code",
   "execution_count": 73,
   "metadata": {},
   "outputs": [],
   "source": [
    "df_solo_1 = df[df.topic ==1]\n",
    "y = df_solo_1['cases']\n",
    "X = df_solo_1.clean_text\n"
   ]
  },
  {
   "cell_type": "code",
   "execution_count": 38,
   "metadata": {},
   "outputs": [
    {
     "data": {
      "text/plain": [
       "1       woman arrested suspicion murder man found stab...\n",
       "2       woman reported domestic violence building athe...\n",
       "4       femicide census usually report woman killed me...\n",
       "5       police arrested man elderly woman stabbed deat...\n",
       "7       greek government come growing pressure introdu...\n",
       "                              ...                        \n",
       "6540    recent case caught video renewed debate police...\n",
       "6541    nan family one hour gather belonging prepare f...\n",
       "6546    leading scientific expert petitioning pardon w...\n",
       "6552    german court fined university warwick historia...\n",
       "6554    attic cottage wood near polish village narewka...\n",
       "Name: clean_text, Length: 1606, dtype: object"
      ]
     },
     "execution_count": 38,
     "metadata": {},
     "output_type": "execute_result"
    }
   ],
   "source": [
    "X"
   ]
  },
  {
   "cell_type": "code",
   "execution_count": 39,
   "metadata": {},
   "outputs": [],
   "source": [
    "X_train, X_test, y_train, y_test = train_test_split(X, y, test_size=0.3, random_state=0)\n",
    "nvaive = ComplementNB()"
   ]
  },
  {
   "cell_type": "code",
   "execution_count": 74,
   "metadata": {},
   "outputs": [],
   "source": [
    "from sklearn.model_selection import train_test_split\n",
    "from sklearn.naive_bayes import ComplementNB\n",
    "# Feature/Target\n",
    "#X = df[\"clean_text\"]\n",
    "#y = df[\"cases\"]\n",
    "\n",
    "X_train, X_test, y_train, y_test = train_test_split(X, y, test_size=0.3, random_state=0)\n",
    "nvaive = ComplementNB()\n",
    "\n",
    "\n"
   ]
  },
  {
   "cell_type": "code",
   "execution_count": 75,
   "metadata": {},
   "outputs": [
    {
     "ename": "ValueError",
     "evalue": "could not convert string to float: 'parent eightweekold baby girl died broken bone body jailed found guilty jury causing allowing suffer serious physical harm police interview naomi johnson benjamin ’ shea claimed paramedic caused injury suffered daughter aminafaye johnson fracture rib fracture limb died april ’ shea former army reservist southwark southeast london jailed eight half year johnson battersea southwest london jailed seven year judge nigel peter qc sentencing inner london crown court said “ sadly ” “ yet another harrowing case parent abusing cruel child ” added “ doubt case highest seriousness term cruelty child term injury ” couple called daughter stopped breathing paramedic arrived within minute died scene court heard metropolitan police said visible sign injury aminafaye initially thought suffered sudden unexplained death xrays later identified broken bone radiologist said fracture highly indicative suffered physical abuse although exact cause death established couple suggested daughter ’ death could result inoculation received took gp day death rib fracture caused paramedic performing cpr aminafaye suffered “ deliberate vicious injury ” worst right thigh bone could “ caused brutal attack ” court told “ remarkable ” sign externally fracture judge said parent shared equal blame “ inconceivable ” would noticed suffering medical expert concluded baby ’ limb bone fracture caused least seven occasion rib fracture sustained least two incident relationship johnson ’ shea met split described judge “ fractious ” “ tempestuous ” clear court still “ temper two ” judge said said ’ shea spun web lie background work career suggest suffering serving afghanistan though “ completely untrue ” detective found call johnson made nh april reporting aminafaye coughing blood doctor phoned back spoke ’ shea advising take hospital taken two also given two month served consecutively found guilty cruelty person relation separate child aminafaye ’ case described “ truly heartbreaking ” melanie pressley led investigation said “ eight week life amina suffered unimaginable number injury trauma endured short life impossible comprehend injury catalogue despicable abuse ”'",
     "output_type": "error",
     "traceback": [
      "\u001b[0;31m---------------------------------------------------------------------------\u001b[0m",
      "\u001b[0;31mValueError\u001b[0m                                Traceback (most recent call last)",
      "Input \u001b[0;32mIn [75]\u001b[0m, in \u001b[0;36m<cell line: 1>\u001b[0;34m()\u001b[0m\n\u001b[0;32m----> 1\u001b[0m y_pred \u001b[38;5;241m=\u001b[39m \u001b[43mnvaive\u001b[49m\u001b[38;5;241;43m.\u001b[39;49m\u001b[43mfit\u001b[49m\u001b[43m(\u001b[49m\u001b[43mX_train\u001b[49m\u001b[43m,\u001b[49m\u001b[43m \u001b[49m\u001b[43my_train\u001b[49m\u001b[43m)\u001b[49m\u001b[38;5;241m.\u001b[39mpredict(X_test)\n",
      "File \u001b[0;32m~/.pyenv/versions/3.8.12/envs/femicide_media_watch/lib/python3.8/site-packages/sklearn/naive_bayes.py:699\u001b[0m, in \u001b[0;36m_BaseDiscreteNB.fit\u001b[0;34m(self, X, y, sample_weight)\u001b[0m\n\u001b[1;32m    679\u001b[0m \u001b[38;5;28;01mdef\u001b[39;00m \u001b[38;5;21mfit\u001b[39m(\u001b[38;5;28mself\u001b[39m, X, y, sample_weight\u001b[38;5;241m=\u001b[39m\u001b[38;5;28;01mNone\u001b[39;00m):\n\u001b[1;32m    680\u001b[0m     \u001b[38;5;124;03m\"\"\"Fit Naive Bayes classifier according to X, y.\u001b[39;00m\n\u001b[1;32m    681\u001b[0m \n\u001b[1;32m    682\u001b[0m \u001b[38;5;124;03m    Parameters\u001b[39;00m\n\u001b[0;32m   (...)\u001b[0m\n\u001b[1;32m    697\u001b[0m \u001b[38;5;124;03m        Returns the instance itself.\u001b[39;00m\n\u001b[1;32m    698\u001b[0m \u001b[38;5;124;03m    \"\"\"\u001b[39;00m\n\u001b[0;32m--> 699\u001b[0m     X, y \u001b[38;5;241m=\u001b[39m \u001b[38;5;28;43mself\u001b[39;49m\u001b[38;5;241;43m.\u001b[39;49m\u001b[43m_check_X_y\u001b[49m\u001b[43m(\u001b[49m\u001b[43mX\u001b[49m\u001b[43m,\u001b[49m\u001b[43m \u001b[49m\u001b[43my\u001b[49m\u001b[43m)\u001b[49m\n\u001b[1;32m    700\u001b[0m     _, n_features \u001b[38;5;241m=\u001b[39m X\u001b[38;5;241m.\u001b[39mshape\n\u001b[1;32m    702\u001b[0m     labelbin \u001b[38;5;241m=\u001b[39m LabelBinarizer()\n",
      "File \u001b[0;32m~/.pyenv/versions/3.8.12/envs/femicide_media_watch/lib/python3.8/site-packages/sklearn/naive_bayes.py:553\u001b[0m, in \u001b[0;36m_BaseDiscreteNB._check_X_y\u001b[0;34m(self, X, y, reset)\u001b[0m\n\u001b[1;32m    551\u001b[0m \u001b[38;5;28;01mdef\u001b[39;00m \u001b[38;5;21m_check_X_y\u001b[39m(\u001b[38;5;28mself\u001b[39m, X, y, reset\u001b[38;5;241m=\u001b[39m\u001b[38;5;28;01mTrue\u001b[39;00m):\n\u001b[1;32m    552\u001b[0m     \u001b[38;5;124;03m\"\"\"Validate X and y in fit methods.\"\"\"\u001b[39;00m\n\u001b[0;32m--> 553\u001b[0m     \u001b[38;5;28;01mreturn\u001b[39;00m \u001b[38;5;28;43mself\u001b[39;49m\u001b[38;5;241;43m.\u001b[39;49m\u001b[43m_validate_data\u001b[49m\u001b[43m(\u001b[49m\u001b[43mX\u001b[49m\u001b[43m,\u001b[49m\u001b[43m \u001b[49m\u001b[43my\u001b[49m\u001b[43m,\u001b[49m\u001b[43m \u001b[49m\u001b[43maccept_sparse\u001b[49m\u001b[38;5;241;43m=\u001b[39;49m\u001b[38;5;124;43m\"\u001b[39;49m\u001b[38;5;124;43mcsr\u001b[39;49m\u001b[38;5;124;43m\"\u001b[39;49m\u001b[43m,\u001b[49m\u001b[43m \u001b[49m\u001b[43mreset\u001b[49m\u001b[38;5;241;43m=\u001b[39;49m\u001b[43mreset\u001b[49m\u001b[43m)\u001b[49m\n",
      "File \u001b[0;32m~/.pyenv/versions/3.8.12/envs/femicide_media_watch/lib/python3.8/site-packages/sklearn/base.py:596\u001b[0m, in \u001b[0;36mBaseEstimator._validate_data\u001b[0;34m(self, X, y, reset, validate_separately, **check_params)\u001b[0m\n\u001b[1;32m    594\u001b[0m         y \u001b[38;5;241m=\u001b[39m check_array(y, input_name\u001b[38;5;241m=\u001b[39m\u001b[38;5;124m\"\u001b[39m\u001b[38;5;124my\u001b[39m\u001b[38;5;124m\"\u001b[39m, \u001b[38;5;241m*\u001b[39m\u001b[38;5;241m*\u001b[39mcheck_y_params)\n\u001b[1;32m    595\u001b[0m     \u001b[38;5;28;01melse\u001b[39;00m:\n\u001b[0;32m--> 596\u001b[0m         X, y \u001b[38;5;241m=\u001b[39m \u001b[43mcheck_X_y\u001b[49m\u001b[43m(\u001b[49m\u001b[43mX\u001b[49m\u001b[43m,\u001b[49m\u001b[43m \u001b[49m\u001b[43my\u001b[49m\u001b[43m,\u001b[49m\u001b[43m \u001b[49m\u001b[38;5;241;43m*\u001b[39;49m\u001b[38;5;241;43m*\u001b[39;49m\u001b[43mcheck_params\u001b[49m\u001b[43m)\u001b[49m\n\u001b[1;32m    597\u001b[0m     out \u001b[38;5;241m=\u001b[39m X, y\n\u001b[1;32m    599\u001b[0m \u001b[38;5;28;01mif\u001b[39;00m \u001b[38;5;129;01mnot\u001b[39;00m no_val_X \u001b[38;5;129;01mand\u001b[39;00m check_params\u001b[38;5;241m.\u001b[39mget(\u001b[38;5;124m\"\u001b[39m\u001b[38;5;124mensure_2d\u001b[39m\u001b[38;5;124m\"\u001b[39m, \u001b[38;5;28;01mTrue\u001b[39;00m):\n",
      "File \u001b[0;32m~/.pyenv/versions/3.8.12/envs/femicide_media_watch/lib/python3.8/site-packages/sklearn/utils/validation.py:1074\u001b[0m, in \u001b[0;36mcheck_X_y\u001b[0;34m(X, y, accept_sparse, accept_large_sparse, dtype, order, copy, force_all_finite, ensure_2d, allow_nd, multi_output, ensure_min_samples, ensure_min_features, y_numeric, estimator)\u001b[0m\n\u001b[1;32m   1069\u001b[0m         estimator_name \u001b[38;5;241m=\u001b[39m _check_estimator_name(estimator)\n\u001b[1;32m   1070\u001b[0m     \u001b[38;5;28;01mraise\u001b[39;00m \u001b[38;5;167;01mValueError\u001b[39;00m(\n\u001b[1;32m   1071\u001b[0m         \u001b[38;5;124mf\u001b[39m\u001b[38;5;124m\"\u001b[39m\u001b[38;5;132;01m{\u001b[39;00mestimator_name\u001b[38;5;132;01m}\u001b[39;00m\u001b[38;5;124m requires y to be passed, but the target y is None\u001b[39m\u001b[38;5;124m\"\u001b[39m\n\u001b[1;32m   1072\u001b[0m     )\n\u001b[0;32m-> 1074\u001b[0m X \u001b[38;5;241m=\u001b[39m \u001b[43mcheck_array\u001b[49m\u001b[43m(\u001b[49m\n\u001b[1;32m   1075\u001b[0m \u001b[43m    \u001b[49m\u001b[43mX\u001b[49m\u001b[43m,\u001b[49m\n\u001b[1;32m   1076\u001b[0m \u001b[43m    \u001b[49m\u001b[43maccept_sparse\u001b[49m\u001b[38;5;241;43m=\u001b[39;49m\u001b[43maccept_sparse\u001b[49m\u001b[43m,\u001b[49m\n\u001b[1;32m   1077\u001b[0m \u001b[43m    \u001b[49m\u001b[43maccept_large_sparse\u001b[49m\u001b[38;5;241;43m=\u001b[39;49m\u001b[43maccept_large_sparse\u001b[49m\u001b[43m,\u001b[49m\n\u001b[1;32m   1078\u001b[0m \u001b[43m    \u001b[49m\u001b[43mdtype\u001b[49m\u001b[38;5;241;43m=\u001b[39;49m\u001b[43mdtype\u001b[49m\u001b[43m,\u001b[49m\n\u001b[1;32m   1079\u001b[0m \u001b[43m    \u001b[49m\u001b[43morder\u001b[49m\u001b[38;5;241;43m=\u001b[39;49m\u001b[43morder\u001b[49m\u001b[43m,\u001b[49m\n\u001b[1;32m   1080\u001b[0m \u001b[43m    \u001b[49m\u001b[43mcopy\u001b[49m\u001b[38;5;241;43m=\u001b[39;49m\u001b[43mcopy\u001b[49m\u001b[43m,\u001b[49m\n\u001b[1;32m   1081\u001b[0m \u001b[43m    \u001b[49m\u001b[43mforce_all_finite\u001b[49m\u001b[38;5;241;43m=\u001b[39;49m\u001b[43mforce_all_finite\u001b[49m\u001b[43m,\u001b[49m\n\u001b[1;32m   1082\u001b[0m \u001b[43m    \u001b[49m\u001b[43mensure_2d\u001b[49m\u001b[38;5;241;43m=\u001b[39;49m\u001b[43mensure_2d\u001b[49m\u001b[43m,\u001b[49m\n\u001b[1;32m   1083\u001b[0m \u001b[43m    \u001b[49m\u001b[43mallow_nd\u001b[49m\u001b[38;5;241;43m=\u001b[39;49m\u001b[43mallow_nd\u001b[49m\u001b[43m,\u001b[49m\n\u001b[1;32m   1084\u001b[0m \u001b[43m    \u001b[49m\u001b[43mensure_min_samples\u001b[49m\u001b[38;5;241;43m=\u001b[39;49m\u001b[43mensure_min_samples\u001b[49m\u001b[43m,\u001b[49m\n\u001b[1;32m   1085\u001b[0m \u001b[43m    \u001b[49m\u001b[43mensure_min_features\u001b[49m\u001b[38;5;241;43m=\u001b[39;49m\u001b[43mensure_min_features\u001b[49m\u001b[43m,\u001b[49m\n\u001b[1;32m   1086\u001b[0m \u001b[43m    \u001b[49m\u001b[43mestimator\u001b[49m\u001b[38;5;241;43m=\u001b[39;49m\u001b[43mestimator\u001b[49m\u001b[43m,\u001b[49m\n\u001b[1;32m   1087\u001b[0m \u001b[43m    \u001b[49m\u001b[43minput_name\u001b[49m\u001b[38;5;241;43m=\u001b[39;49m\u001b[38;5;124;43m\"\u001b[39;49m\u001b[38;5;124;43mX\u001b[39;49m\u001b[38;5;124;43m\"\u001b[39;49m\u001b[43m,\u001b[49m\n\u001b[1;32m   1088\u001b[0m \u001b[43m\u001b[49m\u001b[43m)\u001b[49m\n\u001b[1;32m   1090\u001b[0m y \u001b[38;5;241m=\u001b[39m _check_y(y, multi_output\u001b[38;5;241m=\u001b[39mmulti_output, y_numeric\u001b[38;5;241m=\u001b[39my_numeric, estimator\u001b[38;5;241m=\u001b[39mestimator)\n\u001b[1;32m   1092\u001b[0m check_consistent_length(X, y)\n",
      "File \u001b[0;32m~/.pyenv/versions/3.8.12/envs/femicide_media_watch/lib/python3.8/site-packages/sklearn/utils/validation.py:856\u001b[0m, in \u001b[0;36mcheck_array\u001b[0;34m(array, accept_sparse, accept_large_sparse, dtype, order, copy, force_all_finite, ensure_2d, allow_nd, ensure_min_samples, ensure_min_features, estimator, input_name)\u001b[0m\n\u001b[1;32m    854\u001b[0m         array \u001b[38;5;241m=\u001b[39m array\u001b[38;5;241m.\u001b[39mastype(dtype, casting\u001b[38;5;241m=\u001b[39m\u001b[38;5;124m\"\u001b[39m\u001b[38;5;124munsafe\u001b[39m\u001b[38;5;124m\"\u001b[39m, copy\u001b[38;5;241m=\u001b[39m\u001b[38;5;28;01mFalse\u001b[39;00m)\n\u001b[1;32m    855\u001b[0m     \u001b[38;5;28;01melse\u001b[39;00m:\n\u001b[0;32m--> 856\u001b[0m         array \u001b[38;5;241m=\u001b[39m \u001b[43mnp\u001b[49m\u001b[38;5;241;43m.\u001b[39;49m\u001b[43masarray\u001b[49m\u001b[43m(\u001b[49m\u001b[43marray\u001b[49m\u001b[43m,\u001b[49m\u001b[43m \u001b[49m\u001b[43morder\u001b[49m\u001b[38;5;241;43m=\u001b[39;49m\u001b[43morder\u001b[49m\u001b[43m,\u001b[49m\u001b[43m \u001b[49m\u001b[43mdtype\u001b[49m\u001b[38;5;241;43m=\u001b[39;49m\u001b[43mdtype\u001b[49m\u001b[43m)\u001b[49m\n\u001b[1;32m    857\u001b[0m \u001b[38;5;28;01mexcept\u001b[39;00m ComplexWarning \u001b[38;5;28;01mas\u001b[39;00m complex_warning:\n\u001b[1;32m    858\u001b[0m     \u001b[38;5;28;01mraise\u001b[39;00m \u001b[38;5;167;01mValueError\u001b[39;00m(\n\u001b[1;32m    859\u001b[0m         \u001b[38;5;124m\"\u001b[39m\u001b[38;5;124mComplex data not supported\u001b[39m\u001b[38;5;130;01m\\n\u001b[39;00m\u001b[38;5;132;01m{}\u001b[39;00m\u001b[38;5;130;01m\\n\u001b[39;00m\u001b[38;5;124m\"\u001b[39m\u001b[38;5;241m.\u001b[39mformat(array)\n\u001b[1;32m    860\u001b[0m     ) \u001b[38;5;28;01mfrom\u001b[39;00m \u001b[38;5;21;01mcomplex_warning\u001b[39;00m\n",
      "File \u001b[0;32m~/.pyenv/versions/3.8.12/envs/femicide_media_watch/lib/python3.8/site-packages/numpy/core/_asarray.py:102\u001b[0m, in \u001b[0;36masarray\u001b[0;34m(a, dtype, order, like)\u001b[0m\n\u001b[1;32m     99\u001b[0m \u001b[38;5;28;01mif\u001b[39;00m like \u001b[38;5;129;01mis\u001b[39;00m \u001b[38;5;129;01mnot\u001b[39;00m \u001b[38;5;28;01mNone\u001b[39;00m:\n\u001b[1;32m    100\u001b[0m     \u001b[38;5;28;01mreturn\u001b[39;00m _asarray_with_like(a, dtype\u001b[38;5;241m=\u001b[39mdtype, order\u001b[38;5;241m=\u001b[39morder, like\u001b[38;5;241m=\u001b[39mlike)\n\u001b[0;32m--> 102\u001b[0m \u001b[38;5;28;01mreturn\u001b[39;00m \u001b[43marray\u001b[49m\u001b[43m(\u001b[49m\u001b[43ma\u001b[49m\u001b[43m,\u001b[49m\u001b[43m \u001b[49m\u001b[43mdtype\u001b[49m\u001b[43m,\u001b[49m\u001b[43m \u001b[49m\u001b[43mcopy\u001b[49m\u001b[38;5;241;43m=\u001b[39;49m\u001b[38;5;28;43;01mFalse\u001b[39;49;00m\u001b[43m,\u001b[49m\u001b[43m \u001b[49m\u001b[43morder\u001b[49m\u001b[38;5;241;43m=\u001b[39;49m\u001b[43morder\u001b[49m\u001b[43m)\u001b[49m\n",
      "File \u001b[0;32m~/.pyenv/versions/3.8.12/envs/femicide_media_watch/lib/python3.8/site-packages/pandas/core/series.py:872\u001b[0m, in \u001b[0;36mSeries.__array__\u001b[0;34m(self, dtype)\u001b[0m\n\u001b[1;32m    825\u001b[0m \u001b[38;5;28;01mdef\u001b[39;00m \u001b[38;5;21m__array__\u001b[39m(\u001b[38;5;28mself\u001b[39m, dtype: npt\u001b[38;5;241m.\u001b[39mDTypeLike \u001b[38;5;241m|\u001b[39m \u001b[38;5;28;01mNone\u001b[39;00m \u001b[38;5;241m=\u001b[39m \u001b[38;5;28;01mNone\u001b[39;00m) \u001b[38;5;241m-\u001b[39m\u001b[38;5;241m>\u001b[39m np\u001b[38;5;241m.\u001b[39mndarray:\n\u001b[1;32m    826\u001b[0m     \u001b[38;5;124;03m\"\"\"\u001b[39;00m\n\u001b[1;32m    827\u001b[0m \u001b[38;5;124;03m    Return the values as a NumPy array.\u001b[39;00m\n\u001b[1;32m    828\u001b[0m \n\u001b[0;32m   (...)\u001b[0m\n\u001b[1;32m    870\u001b[0m \u001b[38;5;124;03m          dtype='datetime64[ns]')\u001b[39;00m\n\u001b[1;32m    871\u001b[0m \u001b[38;5;124;03m    \"\"\"\u001b[39;00m\n\u001b[0;32m--> 872\u001b[0m     \u001b[38;5;28;01mreturn\u001b[39;00m \u001b[43mnp\u001b[49m\u001b[38;5;241;43m.\u001b[39;49m\u001b[43masarray\u001b[49m\u001b[43m(\u001b[49m\u001b[38;5;28;43mself\u001b[39;49m\u001b[38;5;241;43m.\u001b[39;49m\u001b[43m_values\u001b[49m\u001b[43m,\u001b[49m\u001b[43m \u001b[49m\u001b[43mdtype\u001b[49m\u001b[43m)\u001b[49m\n",
      "File \u001b[0;32m~/.pyenv/versions/3.8.12/envs/femicide_media_watch/lib/python3.8/site-packages/numpy/core/_asarray.py:102\u001b[0m, in \u001b[0;36masarray\u001b[0;34m(a, dtype, order, like)\u001b[0m\n\u001b[1;32m     99\u001b[0m \u001b[38;5;28;01mif\u001b[39;00m like \u001b[38;5;129;01mis\u001b[39;00m \u001b[38;5;129;01mnot\u001b[39;00m \u001b[38;5;28;01mNone\u001b[39;00m:\n\u001b[1;32m    100\u001b[0m     \u001b[38;5;28;01mreturn\u001b[39;00m _asarray_with_like(a, dtype\u001b[38;5;241m=\u001b[39mdtype, order\u001b[38;5;241m=\u001b[39morder, like\u001b[38;5;241m=\u001b[39mlike)\n\u001b[0;32m--> 102\u001b[0m \u001b[38;5;28;01mreturn\u001b[39;00m \u001b[43marray\u001b[49m\u001b[43m(\u001b[49m\u001b[43ma\u001b[49m\u001b[43m,\u001b[49m\u001b[43m \u001b[49m\u001b[43mdtype\u001b[49m\u001b[43m,\u001b[49m\u001b[43m \u001b[49m\u001b[43mcopy\u001b[49m\u001b[38;5;241;43m=\u001b[39;49m\u001b[38;5;28;43;01mFalse\u001b[39;49;00m\u001b[43m,\u001b[49m\u001b[43m \u001b[49m\u001b[43morder\u001b[49m\u001b[38;5;241;43m=\u001b[39;49m\u001b[43morder\u001b[49m\u001b[43m)\u001b[49m\n",
      "\u001b[0;31mValueError\u001b[0m: could not convert string to float: 'parent eightweekold baby girl died broken bone body jailed found guilty jury causing allowing suffer serious physical harm police interview naomi johnson benjamin ’ shea claimed paramedic caused injury suffered daughter aminafaye johnson fracture rib fracture limb died april ’ shea former army reservist southwark southeast london jailed eight half year johnson battersea southwest london jailed seven year judge nigel peter qc sentencing inner london crown court said “ sadly ” “ yet another harrowing case parent abusing cruel child ” added “ doubt case highest seriousness term cruelty child term injury ” couple called daughter stopped breathing paramedic arrived within minute died scene court heard metropolitan police said visible sign injury aminafaye initially thought suffered sudden unexplained death xrays later identified broken bone radiologist said fracture highly indicative suffered physical abuse although exact cause death established couple suggested daughter ’ death could result inoculation received took gp day death rib fracture caused paramedic performing cpr aminafaye suffered “ deliberate vicious injury ” worst right thigh bone could “ caused brutal attack ” court told “ remarkable ” sign externally fracture judge said parent shared equal blame “ inconceivable ” would noticed suffering medical expert concluded baby ’ limb bone fracture caused least seven occasion rib fracture sustained least two incident relationship johnson ’ shea met split described judge “ fractious ” “ tempestuous ” clear court still “ temper two ” judge said said ’ shea spun web lie background work career suggest suffering serving afghanistan though “ completely untrue ” detective found call johnson made nh april reporting aminafaye coughing blood doctor phoned back spoke ’ shea advising take hospital taken two also given two month served consecutively found guilty cruelty person relation separate child aminafaye ’ case described “ truly heartbreaking ” melanie pressley led investigation said “ eight week life amina suffered unimaginable number injury trauma endured short life impossible comprehend injury catalogue despicable abuse ”'"
     ]
    }
   ],
   "source": [
    "y_pred = nvaive.fit(X_train, y_train).predict(X_test)\n"
   ]
  },
  {
   "cell_type": "code",
   "execution_count": 70,
   "metadata": {},
   "outputs": [
    {
     "data": {
      "text/plain": [
       "324     False\n",
       "978     True \n",
       "381     False\n",
       "245     False\n",
       "62      False\n",
       "4344    False\n",
       "600     False\n",
       "4806    False\n",
       "9501    False\n",
       "70      False\n",
       "8829    False\n",
       "7552    False\n",
       "9050    False\n",
       "1747    False\n",
       "8306    False\n",
       "1093    False\n",
       "240     False\n",
       "9588    True \n",
       "6279    False\n",
       "14      True \n",
       "2261    True \n",
       "8653    True \n",
       "9837    True \n",
       "7319    True \n",
       "684     True \n",
       "Name: cases, dtype: bool"
      ]
     },
     "execution_count": 70,
     "metadata": {},
     "output_type": "execute_result"
    }
   ],
   "source": [
    "y_test[y_pred]\n"
   ]
  },
  {
   "cell_type": "code",
   "execution_count": 72,
   "metadata": {},
   "outputs": [
    {
     "data": {
      "text/plain": [
       "14    man charged murder katie kenyon last seen getting van man five day ago lancashire yearold padiham last spotted friday morning getting silver ford transit van todmorden road burnley andrew burfield todmorden road burnley due appear blackburn magistrate court thursday burfield arrested murder tuesday specialist search officer four police force began scouring rural beauty spot lancashire tuesday part investigation area interest largest wooded area county measuring square mile popular walker cyclist lancashire police said “ katie ’ family made aware continue supported specially trained officer “ pas thanks wellwishing message asked people respect privacy time ”\n",
       "Name: clean_text, dtype: object"
      ]
     },
     "execution_count": 72,
     "metadata": {},
     "output_type": "execute_result"
    }
   ],
   "source": [
    "X.iloc[14:15]"
   ]
  },
  {
   "cell_type": "markdown",
   "metadata": {},
   "source": [
    "🏁 Congratulations !\n",
    "\n",
    "💾 Don't forget to git add/commit/push your notebook...\n",
    "\n",
    "🚀 ... and move on to the next challenge !"
   ]
  },
  {
   "cell_type": "code",
   "execution_count": null,
   "metadata": {},
   "outputs": [],
   "source": [
    "text=\"alskdjalsdjalkdjlakjdlkad lksdjalksdjalk djalkdjlasdkjald. \""
   ]
  },
  {
   "cell_type": "code",
   "execution_count": null,
   "metadata": {},
   "outputs": [],
   "source": [
    "nvaive.predict(text)"
   ]
  }
 ],
 "metadata": {
  "kernelspec": {
   "display_name": "Python 3 (ipykernel)",
   "language": "python",
   "name": "python3"
  },
  "language_info": {
   "codemirror_mode": {
    "name": "ipython",
    "version": 3
   },
   "file_extension": ".py",
   "mimetype": "text/x-python",
   "name": "python",
   "nbconvert_exporter": "python",
   "pygments_lexer": "ipython3",
   "version": "3.8.12"
  }
 },
 "nbformat": 4,
 "nbformat_minor": 4
}
